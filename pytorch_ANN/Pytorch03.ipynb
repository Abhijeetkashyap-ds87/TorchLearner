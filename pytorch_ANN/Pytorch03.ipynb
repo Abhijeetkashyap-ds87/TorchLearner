{
 "cells": [
  {
   "cell_type": "markdown",
   "metadata": {
    "id": "IWa1z_kb5I-_"
   },
   "source": [
    "## Implementing everything together on Real dataset"
   ]
  },
  {
   "cell_type": "code",
   "execution_count": 2,
   "metadata": {},
   "outputs": [
    {
     "name": "stdout",
     "output_type": "stream",
     "text": [
      "Library Versions:\n",
      "------------------\n",
      "numpy             : 1.24.4\n",
      "pandas            : 1.5.3\n",
      "matplotlib        : 3.7.3\n",
      "scikit-learn      : 1.2.2\n",
      "torch             : 2.2.2\n",
      "category_encoders : 2.6.2\n"
     ]
    }
   ],
   "source": [
    "import numpy as np\n",
    "import pandas as pd\n",
    "import matplotlib.pyplot as plt\n",
    "import matplotlib\n",
    "\n",
    "\n",
    "import sklearn\n",
    "import torch\n",
    "\n",
    "\n",
    "import category_encoders as ce\n",
    "\n",
    "# 📌 Print versions for reproducibility\n",
    "print(\"Library Versions:\")\n",
    "print(\"------------------\")\n",
    "print(\"numpy             :\", np.__version__)\n",
    "print(\"pandas            :\", pd.__version__)\n",
    "print(\"matplotlib        :\", matplotlib.__version__)\n",
    "print(\"scikit-learn      :\", sklearn.__version__)\n",
    "print(\"torch             :\", torch.__version__)\n",
    "print(\"category_encoders :\", ce.__version__)\n"
   ]
  },
  {
   "cell_type": "code",
   "execution_count": 7,
   "metadata": {},
   "outputs": [],
   "source": [
    "state=torch.load('ann_model.pt',map_location=torch.device('cpu'))"
   ]
  },
  {
   "cell_type": "code",
   "execution_count": 8,
   "metadata": {},
   "outputs": [
    {
     "data": {
      "text/plain": [
       "OrderedDict([('model.0.weight',\n",
       "              tensor([[ 0.0379, -0.4404,  0.4017,  0.6162, -0.4574,  0.3572,  0.0760,  0.2552,\n",
       "                        0.1130, -0.0933, -0.4808,  1.4027,  0.1704, -0.3273,  0.2913],\n",
       "                      [-0.5162,  0.0863, -0.6757, -0.0893, -0.6332, -0.5123, -0.3370,  0.5713,\n",
       "                       -0.3593, -0.5496, -0.3215, -0.2948, -0.3345,  0.5505, -0.1160],\n",
       "                      [-0.7446, -0.3777, -0.3919,  0.3436, -0.0422, -0.3857, -0.1183, -0.1196,\n",
       "                       -0.0580, -0.2051, -0.0269, -0.9366,  1.2485, -0.1479,  0.2279],\n",
       "                      [ 0.5716, -0.4040,  0.8683, -0.1538,  0.5710, -0.0385, -0.2909,  0.1065,\n",
       "                       -0.1367, -0.2452, -0.0185, -0.9797, -0.3423, -0.3198,  0.2974],\n",
       "                      [-0.5369,  0.2299, -0.2468, -0.6628, -2.4385,  0.2696,  0.1873,  0.0462,\n",
       "                       -0.0557,  0.1083, -0.1098,  0.7598, -0.1863, -0.3523,  0.3058],\n",
       "                      [-0.2563,  0.0776, -0.0929,  0.1851, -0.1224,  0.1294, -0.1975, -0.1357,\n",
       "                        0.0085,  0.2323, -0.0666, -2.0657, -0.1385,  0.1477, -0.1358],\n",
       "                      [ 0.3119,  0.6777, -0.2138, -0.8065, -0.3394, -0.5910, -0.0812,  0.4198,\n",
       "                       -0.3172, -0.5838,  0.0667, -0.0309, -0.2955, -0.0865, -0.2268],\n",
       "                      [ 0.4786,  0.3481,  0.4446, -0.2301,  0.8684,  0.1876, -0.4961, -0.0534,\n",
       "                       -0.0109,  0.4347,  0.1354,  1.8410,  0.2243,  0.0283,  0.0401],\n",
       "                      [-0.3683,  0.4513,  0.0028, -0.3317, -0.0651, -0.4587,  0.4564,  0.0880,\n",
       "                        0.4503, -0.0317, -0.0439, -0.6885, -0.5735,  0.0054, -0.7940],\n",
       "                      [ 0.1721, -0.2432, -0.2215,  0.5871,  0.1916,  0.0246,  0.3285, -0.2882,\n",
       "                       -0.7218, -0.7389, -0.1387,  0.9165,  0.6199,  0.3098, -0.3431],\n",
       "                      [-0.3329,  0.2931, -0.2654, -0.7416,  0.4252,  1.1326,  1.0171,  0.0927,\n",
       "                       -0.0771,  0.0920,  0.4322,  0.3481, -0.1744, -0.1099,  0.2165],\n",
       "                      [ 0.0046, -0.0551, -0.1516,  0.0874, -0.1109,  0.1224,  0.0967, -0.0166,\n",
       "                       -0.1377, -0.1905, -0.0125, -1.4992, -0.9197, -0.1111, -0.1685]])),\n",
       "             ('model.0.bias',\n",
       "              tensor([-0.0135,  0.0340,  0.0050,  0.0089, -0.0303,  0.0135,  0.0354, -0.0805,\n",
       "                       0.0061, -0.0293, -0.0119, -0.0231])),\n",
       "             ('model.1.weight',\n",
       "              tensor([0.8315, 0.9205, 0.5771, 1.0172, 0.7927, 0.8651, 0.8500, 1.0267, 1.4545,\n",
       "                      0.7074, 0.8741, 1.5241])),\n",
       "             ('model.1.bias',\n",
       "              tensor([ 0.6351, -0.1470,  0.3308, -0.2062,  0.3556,  0.5670, -0.3220,  0.5519,\n",
       "                       0.0098, -0.3425,  0.1948,  0.0152])),\n",
       "             ('model.1.running_mean',\n",
       "              tensor([ 1.8221, -0.6067, -2.0553, -1.1701,  0.1889, -1.8540, -2.5266,  3.6482,\n",
       "                      -2.7700, -2.8966,  1.7344, -3.3522])),\n",
       "             ('model.1.running_var',\n",
       "              tensor([0.5899, 2.1121, 1.3945, 0.9172, 1.1740, 0.6699, 2.5242, 1.6554, 3.9263,\n",
       "                      2.2531, 1.3655, 2.8117])),\n",
       "             ('model.1.num_batches_tracked', tensor(48024)),\n",
       "             ('model.3.weight',\n",
       "              tensor([[ 2.5187e-01,  1.4116e-01,  3.5031e-01, -1.0325e+00,  7.0275e-04,\n",
       "                       -4.1658e-01, -1.6611e-01,  6.6136e-01, -3.4858e-01,  6.6109e-01,\n",
       "                        2.5740e-01,  1.2437e-01],\n",
       "                      [ 1.0915e-01, -3.5869e-01,  1.2658e-01,  2.6224e-01,  2.4216e-01,\n",
       "                       -2.4760e-01,  5.4526e-01,  2.4801e-01,  2.2092e-01,  1.8825e-01,\n",
       "                       -5.2288e-01,  1.2477e+00],\n",
       "                      [ 2.6547e-01,  2.1931e-01, -5.6736e-01, -7.4926e-01, -2.2801e-01,\n",
       "                       -8.9363e-01, -2.6020e-01, -2.2326e-01,  1.2843e-01,  2.7665e-01,\n",
       "                        1.5805e-01, -4.5392e-01],\n",
       "                      [ 4.7023e-01,  2.6966e-01,  3.6043e-01, -4.0819e-01, -5.9743e-01,\n",
       "                        6.1614e-01, -1.3536e+00, -2.8642e-01,  2.3255e-01, -6.9268e-02,\n",
       "                        3.2673e-01, -8.2405e-01],\n",
       "                      [ 7.8725e-01, -1.6088e-01, -1.7258e-01, -4.0353e-01, -7.1391e-01,\n",
       "                       -6.2446e-01, -6.2590e-01,  2.6360e-01,  7.0116e-01,  1.2342e-01,\n",
       "                        2.5132e-01,  6.1052e-01],\n",
       "                      [ 2.1767e-01,  1.4091e-01, -7.4194e-02, -5.0143e-02,  7.0767e-02,\n",
       "                        7.4633e-01,  1.0798e-01, -9.7584e-01, -3.1468e-01,  9.5184e-02,\n",
       "                        4.8979e-01, -7.3453e-01],\n",
       "                      [ 3.3991e-01,  9.0545e-02, -7.7275e-02, -8.0455e-01, -8.8992e-02,\n",
       "                       -6.3495e-01,  1.0806e-01,  3.7328e-01, -1.1373e+00, -4.4143e-01,\n",
       "                        7.9168e-01, -9.9400e-02],\n",
       "                      [-1.7659e-01,  7.5811e-01,  2.2153e-01,  2.6402e-01,  4.9869e-01,\n",
       "                        4.5425e-01, -7.6425e-01, -5.4504e-01,  2.1439e-01, -2.3251e-01,\n",
       "                        1.4945e-02,  4.8809e-01],\n",
       "                      [ 3.1549e-01,  7.8254e-02, -1.1784e+00,  2.1035e-01,  6.2824e-01,\n",
       "                        3.1019e-01, -2.3101e-03,  2.5408e-01,  3.8925e-01,  2.9422e-01,\n",
       "                       -2.0774e-01,  1.9108e-01],\n",
       "                      [-5.4213e-01, -2.9529e-01,  2.4989e-02, -1.1449e-01, -3.3439e-01,\n",
       "                       -6.6450e-01,  1.2502e-01,  2.7476e-01, -9.7657e-01,  7.2164e-02,\n",
       "                       -4.1328e-03,  6.1594e-01]])),\n",
       "             ('model.3.bias',\n",
       "              tensor([ 0.0306,  0.0592, -0.0057, -0.0231, -0.0228,  0.0249,  0.0004, -0.0531,\n",
       "                       0.0390, -0.0463])),\n",
       "             ('model.4.weight',\n",
       "              tensor([1.1558, 1.2219, 0.8484, 1.1814, 0.6855, 0.9315, 0.9222, 1.1097, 0.8548,\n",
       "                      0.9276])),\n",
       "             ('model.4.bias',\n",
       "              tensor([ 0.2558, -0.4515,  0.1407, -0.0495,  0.2365, -0.0993, -0.0220,  0.0738,\n",
       "                       0.4244,  0.3902])),\n",
       "             ('model.4.running_mean',\n",
       "              tensor([ 0.3320,  1.0618, -1.2642, -0.1795,  0.4093, -0.2972, -0.6081,  0.6437,\n",
       "                       0.9385, -1.1729])),\n",
       "             ('model.4.running_var',\n",
       "              tensor([2.0591, 1.4585, 0.7793, 1.3236, 0.8303, 0.5566, 3.5978, 1.1488, 0.7765,\n",
       "                      0.5196])),\n",
       "             ('model.4.num_batches_tracked', tensor(48024)),\n",
       "             ('model.6.weight',\n",
       "              tensor([[ 0.5261, -0.4979,  0.5427,  0.2514,  0.5039, -0.6936,  0.6533, -0.5175,\n",
       "                       -0.4770,  0.6028],\n",
       "                      [ 0.1672,  0.1050,  0.4354, -0.3282,  0.7327, -0.2402, -0.6263,  0.5073,\n",
       "                       -0.2066,  0.8244],\n",
       "                      [-0.2304,  0.5078, -0.1961, -0.0425, -0.0772, -0.0253, -1.0316,  0.7355,\n",
       "                        0.2841,  0.2453],\n",
       "                      [-0.0336,  0.8321, -0.6973, -0.8016, -0.3128,  0.3447,  0.1467,  0.7139,\n",
       "                        0.4240, -0.1463],\n",
       "                      [ 0.8884,  1.0321, -0.3332, -0.7702, -0.0046,  0.1062, -0.3352,  0.5644,\n",
       "                        0.3778,  0.5077],\n",
       "                      [ 0.4369,  0.6264, -0.5174, -0.6252,  0.0608,  0.7864, -0.6665,  0.1153,\n",
       "                        0.2758,  0.1185],\n",
       "                      [ 0.8823,  0.4025,  0.2406,  0.1166, -0.4422, -0.1130, -0.0659, -1.1602,\n",
       "                       -0.4581, -0.1300],\n",
       "                      [ 0.3065, -0.3828,  0.9521, -0.5810, -0.1547,  0.6487, -0.1671,  0.0014,\n",
       "                        0.5384,  0.7442]])),\n",
       "             ('model.6.bias',\n",
       "              tensor([ 0.0002, -0.1065, -0.0270, -0.0193, -0.0873,  0.0783, -0.0523, -0.0305])),\n",
       "             ('model.7.weight',\n",
       "              tensor([1.2013, 0.7077, 0.5573, 1.0273, 1.1105, 0.7168, 1.1640, 0.7878])),\n",
       "             ('model.7.bias',\n",
       "              tensor([-0.1175, -0.0758,  0.0114, -0.6304, -0.7518, -0.7468,  0.0245, -0.5149])),\n",
       "             ('model.7.running_mean',\n",
       "              tensor([ 0.5104,  0.6766,  0.1710,  0.1715,  1.0393,  0.3948, -0.4148,  1.0537])),\n",
       "             ('model.7.running_var',\n",
       "              tensor([4.1935, 0.6207, 1.9200, 2.3342, 1.4240, 0.7251, 1.5121, 0.5920])),\n",
       "             ('model.7.num_batches_tracked', tensor(48024)),\n",
       "             ('model.9.weight',\n",
       "              tensor([[ 7.5333e-01, -3.7337e-01, -6.9289e-01, -2.0213e-01, -7.6917e-01,\n",
       "                        2.1736e-01,  5.1610e-01, -8.6660e-05],\n",
       "                      [ 2.5351e-01, -7.1619e-01,  4.4205e-01, -1.0837e+00, -8.7068e-02,\n",
       "                       -2.2959e-01, -2.5682e-01,  4.8390e-01],\n",
       "                      [-8.3936e-01,  9.2311e-01, -3.2204e-01,  3.8800e-01,  8.1223e-01,\n",
       "                       -4.2454e-01,  7.9109e-02, -5.9962e-01],\n",
       "                      [ 1.1100e-01, -4.9465e-01,  1.9953e-01, -4.6772e-01,  6.6169e-01,\n",
       "                       -6.4105e-01, -4.3318e-01, -2.7161e-03],\n",
       "                      [-2.0174e-01, -1.4175e-01, -2.4592e-01, -1.6654e-02,  7.0153e-01,\n",
       "                        5.2257e-02, -4.2598e-01, -7.9313e-02],\n",
       "                      [-6.8421e-01,  4.1401e-02, -6.3311e-01,  5.2279e-01,  9.3305e-01,\n",
       "                       -4.3716e-01,  6.1240e-01,  4.9742e-01]])),\n",
       "             ('model.9.bias',\n",
       "              tensor([-0.0983,  0.0137,  0.0400, -0.0943,  0.0221, -0.0014])),\n",
       "             ('model.10.weight',\n",
       "              tensor([0.9476, 0.5086, 1.0311, 1.0340, 1.0132, 0.9045])),\n",
       "             ('model.10.bias',\n",
       "              tensor([ 0.4817,  0.4199, -0.0098, -0.4313, -0.9637, -0.2937])),\n",
       "             ('model.10.running_mean',\n",
       "              tensor([ 0.0552, -0.2501, -0.0128, -0.3343, -0.2325,  0.2052])),\n",
       "             ('model.10.running_var',\n",
       "              tensor([1.6257, 0.3563, 0.7236, 0.1233, 0.3814, 0.2902])),\n",
       "             ('model.10.num_batches_tracked', tensor(48024)),\n",
       "             ('model.12.weight',\n",
       "              tensor([[ 0.1216,  0.4356, -0.6329, -1.3874, -0.0164, -0.5781],\n",
       "                      [ 0.1042,  0.1897, -0.5028, -1.1946, -0.5034,  0.2533],\n",
       "                      [ 1.0229,  0.0585,  0.0910, -0.1478, -0.8587, -0.1520],\n",
       "                      [ 0.4246,  0.8534, -0.9084, -1.1810,  0.7057, -0.5572]])),\n",
       "             ('model.12.bias', tensor([ 0.0227, -0.0180,  0.0124,  0.0155])),\n",
       "             ('model.13.weight', tensor([0.8019, 0.8354, 1.0874, 0.7814])),\n",
       "             ('model.13.bias', tensor([-0.3052, -0.3784,  0.9462, -0.4067])),\n",
       "             ('model.13.running_mean',\n",
       "              tensor([-0.2657, -0.2277,  0.5868,  0.1624])),\n",
       "             ('model.13.running_var',\n",
       "              tensor([1.2693, 0.4386, 0.8061, 1.5319])),\n",
       "             ('model.13.num_batches_tracked', tensor(48024)),\n",
       "             ('model.15.weight',\n",
       "              tensor([[-0.3246, -0.4892,  0.7383, -0.7512]])),\n",
       "             ('model.15.bias', tensor([0.3797]))])"
      ]
     },
     "execution_count": 8,
     "metadata": {},
     "output_type": "execute_result"
    }
   ],
   "source": [
    "state"
   ]
  },
  {
   "cell_type": "code",
   "execution_count": 9,
   "metadata": {
    "executionInfo": {
     "elapsed": 12840,
     "status": "ok",
     "timestamp": 1749325133492,
     "user": {
      "displayName": "Abhijeet kashyap",
      "userId": "09627247903602119596"
     },
     "user_tz": -330
    },
    "id": "3-WOU_iB5F-5"
   },
   "outputs": [],
   "source": [
    "# importing libraries\n",
    "\n",
    "import seaborn as sns\n",
    "import time\n",
    "\n",
    "\n",
    "import torch.nn as nn\n",
    "import torch.nn.functional as F\n",
    "import torch.nn.init as init\n",
    "from torch.utils.data import DataLoader,Dataset\n",
    "import torch.optim as optimizer\n",
    "\n",
    "\n",
    "from sklearn.preprocessing import StandardScaler,OneHotEncoder,OrdinalEncoder,FunctionTransformer\n",
    "from sklearn.compose import ColumnTransformer\n",
    "from sklearn.pipeline import Pipeline\n",
    "from sklearn.model_selection import train_test_split,cross_val_score,KFold\n",
    "import category_encoders as ce\n",
    "from sklearn.metrics import r2_score, mean_squared_error"
   ]
  },
  {
   "cell_type": "code",
   "execution_count": 10,
   "metadata": {
    "colab": {
     "base_uri": "https://localhost:8080/",
     "height": 296
    },
    "executionInfo": {
     "elapsed": 194,
     "status": "ok",
     "timestamp": 1749325133733,
     "user": {
      "displayName": "Abhijeet kashyap",
      "userId": "09627247903602119596"
     },
     "user_tz": -330
    },
    "id": "l9Dm-MlT6jEJ",
    "outputId": "f11a8586-98d8-4c1b-e1eb-db2c137e9c8c"
   },
   "outputs": [
    {
     "data": {
      "text/html": [
       "<div>\n",
       "<style scoped>\n",
       "    .dataframe tbody tr th:only-of-type {\n",
       "        vertical-align: middle;\n",
       "    }\n",
       "\n",
       "    .dataframe tbody tr th {\n",
       "        vertical-align: top;\n",
       "    }\n",
       "\n",
       "    .dataframe thead th {\n",
       "        text-align: right;\n",
       "    }\n",
       "</style>\n",
       "<table border=\"1\" class=\"dataframe\">\n",
       "  <thead>\n",
       "    <tr style=\"text-align: right;\">\n",
       "      <th></th>\n",
       "      <th>price</th>\n",
       "      <th>bedRoom</th>\n",
       "      <th>bathroom</th>\n",
       "      <th>balcony</th>\n",
       "      <th>floor_type</th>\n",
       "      <th>agePossession</th>\n",
       "      <th>sector</th>\n",
       "      <th>type</th>\n",
       "      <th>built_up_area</th>\n",
       "      <th>servant room</th>\n",
       "      <th>pooja room</th>\n",
       "      <th>furnishing_type</th>\n",
       "      <th>luxury</th>\n",
       "    </tr>\n",
       "  </thead>\n",
       "  <tbody>\n",
       "    <tr>\n",
       "      <th>0</th>\n",
       "      <td>0.45</td>\n",
       "      <td>2.0</td>\n",
       "      <td>2.0</td>\n",
       "      <td>1</td>\n",
       "      <td>low floor</td>\n",
       "      <td>relatively new</td>\n",
       "      <td>sector 7</td>\n",
       "      <td>flat</td>\n",
       "      <td>900.0</td>\n",
       "      <td>no</td>\n",
       "      <td>no</td>\n",
       "      <td>unfurnished</td>\n",
       "      <td>low</td>\n",
       "    </tr>\n",
       "    <tr>\n",
       "      <th>1</th>\n",
       "      <td>0.50</td>\n",
       "      <td>2.0</td>\n",
       "      <td>2.0</td>\n",
       "      <td>1</td>\n",
       "      <td>low floor</td>\n",
       "      <td>old property</td>\n",
       "      <td>sector 3</td>\n",
       "      <td>flat</td>\n",
       "      <td>650.0</td>\n",
       "      <td>no</td>\n",
       "      <td>no</td>\n",
       "      <td>semifurnished</td>\n",
       "      <td>normal</td>\n",
       "    </tr>\n",
       "    <tr>\n",
       "      <th>2</th>\n",
       "      <td>0.40</td>\n",
       "      <td>2.0</td>\n",
       "      <td>2.0</td>\n",
       "      <td>3</td>\n",
       "      <td>high floor</td>\n",
       "      <td>new property</td>\n",
       "      <td>sohna road</td>\n",
       "      <td>flat</td>\n",
       "      <td>595.0</td>\n",
       "      <td>no</td>\n",
       "      <td>no</td>\n",
       "      <td>unfurnished</td>\n",
       "      <td>normal</td>\n",
       "    </tr>\n",
       "    <tr>\n",
       "      <th>3</th>\n",
       "      <td>1.47</td>\n",
       "      <td>2.0</td>\n",
       "      <td>2.0</td>\n",
       "      <td>2</td>\n",
       "      <td>low floor</td>\n",
       "      <td>new property</td>\n",
       "      <td>sector 61</td>\n",
       "      <td>flat</td>\n",
       "      <td>1200.0</td>\n",
       "      <td>no</td>\n",
       "      <td>no</td>\n",
       "      <td>unfurnished</td>\n",
       "      <td>semi_luxrious</td>\n",
       "    </tr>\n",
       "    <tr>\n",
       "      <th>4</th>\n",
       "      <td>0.70</td>\n",
       "      <td>2.0</td>\n",
       "      <td>2.0</td>\n",
       "      <td>3</td>\n",
       "      <td>mid floor</td>\n",
       "      <td>under construction</td>\n",
       "      <td>sector 92</td>\n",
       "      <td>flat</td>\n",
       "      <td>1076.0</td>\n",
       "      <td>no</td>\n",
       "      <td>no</td>\n",
       "      <td>unfurnished</td>\n",
       "      <td>low</td>\n",
       "    </tr>\n",
       "  </tbody>\n",
       "</table>\n",
       "</div>"
      ],
      "text/plain": [
       "   price  bedRoom  bathroom balcony  floor_type       agePossession  \\\n",
       "0   0.45      2.0       2.0       1   low floor      relatively new   \n",
       "1   0.50      2.0       2.0       1   low floor        old property   \n",
       "2   0.40      2.0       2.0       3  high floor        new property   \n",
       "3   1.47      2.0       2.0       2   low floor        new property   \n",
       "4   0.70      2.0       2.0       3   mid floor  under construction   \n",
       "\n",
       "       sector  type  built_up_area servant room pooja room furnishing_type  \\\n",
       "0    sector 7  flat          900.0           no         no     unfurnished   \n",
       "1    sector 3  flat          650.0           no         no   semifurnished   \n",
       "2  sohna road  flat          595.0           no         no     unfurnished   \n",
       "3   sector 61  flat         1200.0           no         no     unfurnished   \n",
       "4   sector 92  flat         1076.0           no         no     unfurnished   \n",
       "\n",
       "          luxury  \n",
       "0            low  \n",
       "1         normal  \n",
       "2         normal  \n",
       "3  semi_luxrious  \n",
       "4            low  "
      ]
     },
     "execution_count": 10,
     "metadata": {},
     "output_type": "execute_result"
    }
   ],
   "source": [
    "# loading dataset\n",
    "data=pd.read_csv('modified.csv')\n",
    "data.head(5)"
   ]
  },
  {
   "cell_type": "code",
   "execution_count": 11,
   "metadata": {
    "colab": {
     "base_uri": "https://localhost:8080/"
    },
    "executionInfo": {
     "elapsed": 139,
     "status": "ok",
     "timestamp": 1749325133901,
     "user": {
      "displayName": "Abhijeet kashyap",
      "userId": "09627247903602119596"
     },
     "user_tz": -330
    },
    "id": "pK23zuFh8avY",
    "outputId": "fcd691de-d2a4-40aa-aec0-b3708b49b1dd"
   },
   "outputs": [
    {
     "data": {
      "text/plain": [
       "Index(['price', 'bedRoom', 'bathroom', 'balcony', 'floor_type',\n",
       "       'agePossession', 'sector', 'type', 'built_up_area', 'servant room',\n",
       "       'pooja room', 'furnishing_type', 'luxury'],\n",
       "      dtype='object')"
      ]
     },
     "execution_count": 11,
     "metadata": {},
     "output_type": "execute_result"
    }
   ],
   "source": [
    "data.columns"
   ]
  },
  {
   "cell_type": "code",
   "execution_count": 13,
   "metadata": {
    "colab": {
     "base_uri": "https://localhost:8080/",
     "height": 492
    },
    "executionInfo": {
     "elapsed": 283,
     "status": "ok",
     "timestamp": 1749325134207,
     "user": {
      "displayName": "Abhijeet kashyap",
      "userId": "09627247903602119596"
     },
     "user_tz": -330
    },
    "id": "T8TQ3FNK8cza",
    "outputId": "677e813e-19e2-4728-9249-7396be03cc5f"
   },
   "outputs": [
    {
     "data": {
      "text/plain": [
       "price              float64\n",
       "bedRoom            float64\n",
       "bathroom           float64\n",
       "balcony             object\n",
       "floor_type          object\n",
       "agePossession       object\n",
       "sector              object\n",
       "type                object\n",
       "built_up_area      float64\n",
       "servant room        object\n",
       "pooja room          object\n",
       "furnishing_type     object\n",
       "luxury              object\n",
       "dtype: object"
      ]
     },
     "execution_count": 13,
     "metadata": {},
     "output_type": "execute_result"
    }
   ],
   "source": [
    "data.dtypes"
   ]
  },
  {
   "cell_type": "code",
   "execution_count": 14,
   "metadata": {
    "colab": {
     "base_uri": "https://localhost:8080/",
     "height": 492
    },
    "executionInfo": {
     "elapsed": 264,
     "status": "ok",
     "timestamp": 1749325134509,
     "user": {
      "displayName": "Abhijeet kashyap",
      "userId": "09627247903602119596"
     },
     "user_tz": -330
    },
    "id": "aIbIsOdceTKv",
    "outputId": "0041cd7d-e6b8-4562-ae47-c44bd730e6fa"
   },
   "outputs": [
    {
     "data": {
      "text/plain": [
       "price              0\n",
       "bedRoom            0\n",
       "bathroom           0\n",
       "balcony            0\n",
       "floor_type         0\n",
       "agePossession      0\n",
       "sector             0\n",
       "type               0\n",
       "built_up_area      0\n",
       "servant room       0\n",
       "pooja room         0\n",
       "furnishing_type    0\n",
       "luxury             0\n",
       "dtype: int64"
      ]
     },
     "execution_count": 14,
     "metadata": {},
     "output_type": "execute_result"
    }
   ],
   "source": [
    "data.isnull().sum()"
   ]
  },
  {
   "cell_type": "code",
   "execution_count": 15,
   "metadata": {
    "colab": {
     "base_uri": "https://localhost:8080/",
     "height": 524
    },
    "executionInfo": {
     "elapsed": 339,
     "status": "ok",
     "timestamp": 1749325134882,
     "user": {
      "displayName": "Abhijeet kashyap",
      "userId": "09627247903602119596"
     },
     "user_tz": -330
    },
    "id": "T34ZooQ5MoRv",
    "outputId": "d9d11935-ed25-428f-c74d-c1019d8fe342"
   },
   "outputs": [
    {
     "data": {
      "text/plain": [
       "<seaborn.axisgrid.FacetGrid at 0x7f95299835b0>"
      ]
     },
     "execution_count": 15,
     "metadata": {},
     "output_type": "execute_result"
    },
    {
     "data": {
      "image/png": "[encoded data removed]",
      "text/plain": [
       "<Figure size 500x500 with 1 Axes>"
      ]
     },
     "metadata": {},
     "output_type": "display_data"
    }
   ],
   "source": [
    "sns.displot(np.log1p(data['price']),kde=True) # np.log1p=np.log(1+x)"
   ]
  },
  {
   "cell_type": "code",
   "execution_count": 16,
   "metadata": {
    "colab": {
     "base_uri": "https://localhost:8080/",
     "height": 600
    },
    "executionInfo": {
     "elapsed": 123,
     "status": "ok",
     "timestamp": 1749325135030,
     "user": {
      "displayName": "Abhijeet kashyap",
      "userId": "09627247903602119596"
     },
     "user_tz": -330
    },
    "id": "zY3klFncpEB7",
    "outputId": "c026036a-f3a2-4ba5-c7b9-1862ee02ee10"
   },
   "outputs": [
    {
     "data": {
      "text/html": [
       "<div>\n",
       "<style scoped>\n",
       "    .dataframe tbody tr th:only-of-type {\n",
       "        vertical-align: middle;\n",
       "    }\n",
       "\n",
       "    .dataframe tbody tr th {\n",
       "        vertical-align: top;\n",
       "    }\n",
       "\n",
       "    .dataframe thead th {\n",
       "        text-align: right;\n",
       "    }\n",
       "</style>\n",
       "<table border=\"1\" class=\"dataframe\">\n",
       "  <thead>\n",
       "    <tr style=\"text-align: right;\">\n",
       "      <th></th>\n",
       "      <th>bedRoom</th>\n",
       "      <th>bathroom</th>\n",
       "      <th>balcony</th>\n",
       "      <th>floor_type</th>\n",
       "      <th>agePossession</th>\n",
       "      <th>sector</th>\n",
       "      <th>type</th>\n",
       "      <th>built_up_area</th>\n",
       "      <th>servant room</th>\n",
       "      <th>pooja room</th>\n",
       "      <th>furnishing_type</th>\n",
       "      <th>luxury</th>\n",
       "    </tr>\n",
       "  </thead>\n",
       "  <tbody>\n",
       "    <tr>\n",
       "      <th>1621</th>\n",
       "      <td>4.0</td>\n",
       "      <td>5.0</td>\n",
       "      <td>3+</td>\n",
       "      <td>mid floor</td>\n",
       "      <td>relatively new</td>\n",
       "      <td>sector 72</td>\n",
       "      <td>flat</td>\n",
       "      <td>3062.653000</td>\n",
       "      <td>yes</td>\n",
       "      <td>no</td>\n",
       "      <td>unfurnished</td>\n",
       "      <td>normal</td>\n",
       "    </tr>\n",
       "    <tr>\n",
       "      <th>3414</th>\n",
       "      <td>2.0</td>\n",
       "      <td>2.0</td>\n",
       "      <td>2</td>\n",
       "      <td>low floor</td>\n",
       "      <td>moderately old</td>\n",
       "      <td>sector 8</td>\n",
       "      <td>house</td>\n",
       "      <td>581.000000</td>\n",
       "      <td>no</td>\n",
       "      <td>no</td>\n",
       "      <td>unfurnished</td>\n",
       "      <td>low</td>\n",
       "    </tr>\n",
       "    <tr>\n",
       "      <th>246</th>\n",
       "      <td>3.0</td>\n",
       "      <td>3.0</td>\n",
       "      <td>3</td>\n",
       "      <td>mid floor</td>\n",
       "      <td>under construction</td>\n",
       "      <td>sector 62</td>\n",
       "      <td>flat</td>\n",
       "      <td>1600.000000</td>\n",
       "      <td>no</td>\n",
       "      <td>no</td>\n",
       "      <td>unfurnished</td>\n",
       "      <td>low</td>\n",
       "    </tr>\n",
       "    <tr>\n",
       "      <th>1886</th>\n",
       "      <td>3.0</td>\n",
       "      <td>3.0</td>\n",
       "      <td>1</td>\n",
       "      <td>low floor</td>\n",
       "      <td>relatively new</td>\n",
       "      <td>sector 48</td>\n",
       "      <td>flat</td>\n",
       "      <td>1450.000000</td>\n",
       "      <td>no</td>\n",
       "      <td>no</td>\n",
       "      <td>unfurnished</td>\n",
       "      <td>semi_luxrious</td>\n",
       "    </tr>\n",
       "    <tr>\n",
       "      <th>734</th>\n",
       "      <td>3.0</td>\n",
       "      <td>3.0</td>\n",
       "      <td>3+</td>\n",
       "      <td>mid floor</td>\n",
       "      <td>moderately old</td>\n",
       "      <td>sector 1</td>\n",
       "      <td>flat</td>\n",
       "      <td>2089.000000</td>\n",
       "      <td>yes</td>\n",
       "      <td>no</td>\n",
       "      <td>unfurnished</td>\n",
       "      <td>low</td>\n",
       "    </tr>\n",
       "    <tr>\n",
       "      <th>...</th>\n",
       "      <td>...</td>\n",
       "      <td>...</td>\n",
       "      <td>...</td>\n",
       "      <td>...</td>\n",
       "      <td>...</td>\n",
       "      <td>...</td>\n",
       "      <td>...</td>\n",
       "      <td>...</td>\n",
       "      <td>...</td>\n",
       "      <td>...</td>\n",
       "      <td>...</td>\n",
       "      <td>...</td>\n",
       "    </tr>\n",
       "    <tr>\n",
       "      <th>1130</th>\n",
       "      <td>3.0</td>\n",
       "      <td>3.0</td>\n",
       "      <td>1</td>\n",
       "      <td>high floor</td>\n",
       "      <td>relatively new</td>\n",
       "      <td>sector 86</td>\n",
       "      <td>flat</td>\n",
       "      <td>1330.000000</td>\n",
       "      <td>no</td>\n",
       "      <td>no</td>\n",
       "      <td>unfurnished</td>\n",
       "      <td>luxrious</td>\n",
       "    </tr>\n",
       "    <tr>\n",
       "      <th>1294</th>\n",
       "      <td>3.0</td>\n",
       "      <td>3.0</td>\n",
       "      <td>3</td>\n",
       "      <td>low floor</td>\n",
       "      <td>relatively new</td>\n",
       "      <td>sector 71</td>\n",
       "      <td>flat</td>\n",
       "      <td>1296.000000</td>\n",
       "      <td>no</td>\n",
       "      <td>no</td>\n",
       "      <td>semifurnished</td>\n",
       "      <td>normal</td>\n",
       "    </tr>\n",
       "    <tr>\n",
       "      <th>860</th>\n",
       "      <td>3.0</td>\n",
       "      <td>4.0</td>\n",
       "      <td>3</td>\n",
       "      <td>low floor</td>\n",
       "      <td>moderately old</td>\n",
       "      <td>sector 108</td>\n",
       "      <td>flat</td>\n",
       "      <td>1302.001344</td>\n",
       "      <td>no</td>\n",
       "      <td>no</td>\n",
       "      <td>semifurnished</td>\n",
       "      <td>semi_luxrious</td>\n",
       "    </tr>\n",
       "    <tr>\n",
       "      <th>3507</th>\n",
       "      <td>4.0</td>\n",
       "      <td>4.0</td>\n",
       "      <td>3+</td>\n",
       "      <td>low floor</td>\n",
       "      <td>relatively new</td>\n",
       "      <td>sector 109</td>\n",
       "      <td>house</td>\n",
       "      <td>5403.000000</td>\n",
       "      <td>yes</td>\n",
       "      <td>no</td>\n",
       "      <td>unfurnished</td>\n",
       "      <td>luxrious</td>\n",
       "    </tr>\n",
       "    <tr>\n",
       "      <th>3174</th>\n",
       "      <td>4.0</td>\n",
       "      <td>5.0</td>\n",
       "      <td>0</td>\n",
       "      <td>high floor</td>\n",
       "      <td>relatively new</td>\n",
       "      <td>sector 92</td>\n",
       "      <td>house</td>\n",
       "      <td>2356.440000</td>\n",
       "      <td>no</td>\n",
       "      <td>no</td>\n",
       "      <td>unfurnished</td>\n",
       "      <td>low</td>\n",
       "    </tr>\n",
       "  </tbody>\n",
       "</table>\n",
       "<p>3044 rows × 12 columns</p>\n",
       "</div>"
      ],
      "text/plain": [
       "      bedRoom  bathroom balcony  floor_type       agePossession      sector  \\\n",
       "1621      4.0       5.0      3+   mid floor      relatively new   sector 72   \n",
       "3414      2.0       2.0       2   low floor      moderately old    sector 8   \n",
       "246       3.0       3.0       3   mid floor  under construction   sector 62   \n",
       "1886      3.0       3.0       1   low floor      relatively new   sector 48   \n",
       "734       3.0       3.0      3+   mid floor      moderately old    sector 1   \n",
       "...       ...       ...     ...         ...                 ...         ...   \n",
       "1130      3.0       3.0       1  high floor      relatively new   sector 86   \n",
       "1294      3.0       3.0       3   low floor      relatively new   sector 71   \n",
       "860       3.0       4.0       3   low floor      moderately old  sector 108   \n",
       "3507      4.0       4.0      3+   low floor      relatively new  sector 109   \n",
       "3174      4.0       5.0       0  high floor      relatively new   sector 92   \n",
       "\n",
       "       type  built_up_area servant room pooja room furnishing_type  \\\n",
       "1621   flat    3062.653000          yes         no     unfurnished   \n",
       "3414  house     581.000000           no         no     unfurnished   \n",
       "246    flat    1600.000000           no         no     unfurnished   \n",
       "1886   flat    1450.000000           no         no     unfurnished   \n",
       "734    flat    2089.000000          yes         no     unfurnished   \n",
       "...     ...            ...          ...        ...             ...   \n",
       "1130   flat    1330.000000           no         no     unfurnished   \n",
       "1294   flat    1296.000000           no         no   semifurnished   \n",
       "860    flat    1302.001344           no         no   semifurnished   \n",
       "3507  house    5403.000000          yes         no     unfurnished   \n",
       "3174  house    2356.440000           no         no     unfurnished   \n",
       "\n",
       "             luxury  \n",
       "1621         normal  \n",
       "3414            low  \n",
       "246             low  \n",
       "1886  semi_luxrious  \n",
       "734             low  \n",
       "...             ...  \n",
       "1130       luxrious  \n",
       "1294         normal  \n",
       "860   semi_luxrious  \n",
       "3507       luxrious  \n",
       "3174            low  \n",
       "\n",
       "[3044 rows x 12 columns]"
      ]
     },
     "execution_count": 16,
     "metadata": {},
     "output_type": "execute_result"
    }
   ],
   "source": [
    "y = np.log1p(data['price'])\n",
    "x = data.drop('price', axis=1)\n",
    "# train_test_split\n",
    "x_train, x_test, y_train, y_test = train_test_split(\n",
    "    x, y, test_size=0.2, random_state=42)\n",
    "x_train"
   ]
  },
  {
   "cell_type": "code",
   "execution_count": 17,
   "metadata": {
    "executionInfo": {
     "elapsed": 163,
     "status": "ok",
     "timestamp": 1749325135213,
     "user": {
      "displayName": "Abhijeet kashyap",
      "userId": "09627247903602119596"
     },
     "user_tz": -330
    },
    "id": "6wrg-jvXMAcD"
   },
   "outputs": [],
   "source": [
    "# transformation\n",
    "\n",
    "def transformation():\n",
    "\n",
    "  transformer=ColumnTransformer(transformers=[\n",
    "    ('tnf1',OneHotEncoder(drop='first',sparse_output=False,),['agePossession','type']),\n",
    "    ('tnf2',OrdinalEncoder(categories=[['no','yes']]),['servant room']),\n",
    "    ('tnf3',OrdinalEncoder(categories=[['no','yes']]),['pooja room']),\n",
    "     ('tnf4',OrdinalEncoder(categories=[['groundfloor','mid floor','high floor','low floor','hometop']]),['floor_type']),\n",
    "    ('tnf5',OrdinalEncoder(categories=[['low','normal','semi_luxrious','luxrious']]),['luxury']),\n",
    "    ('tnf6',OrdinalEncoder(categories=[['1','0','2','3','3+']]),['balcony']),\n",
    "    ('tnf7',OrdinalEncoder(categories=[['unfurnished', 'semifurnished', 'furnished']]),['furnishing_type']),\n",
    "    ('tnf8',ce.TargetEncoder(),['sector']),\n",
    "    ('tnf9',StandardScaler(),['built_up_area'])\n",
    "    ],remainder='passthrough')\n",
    "\n",
    "  return transformer\n",
    "\n"
   ]
  },
  {
   "cell_type": "code",
   "execution_count": 44,
   "metadata": {},
   "outputs": [
    {
     "name": "stdout",
     "output_type": "stream",
     "text": [
      "1.2.0\n"
     ]
    }
   ],
   "source": [
    "import joblib\n",
    "print(joblib.__version__)"
   ]
  },
  {
   "cell_type": "code",
   "execution_count": 47,
   "metadata": {},
   "outputs": [
    {
     "name": "stdout",
     "output_type": "stream",
     "text": [
      "2.0.3\n"
     ]
    }
   ],
   "source": [
    "import xgboost\n",
    "print(xgboost.__version__)"
   ]
  },
  {
   "cell_type": "code",
   "execution_count": 18,
   "metadata": {
    "colab": {
     "base_uri": "https://localhost:8080/"
    },
    "executionInfo": {
     "elapsed": 195,
     "status": "ok",
     "timestamp": 1749325135351,
     "user": {
      "displayName": "Abhijeet kashyap",
      "userId": "09627247903602119596"
     },
     "user_tz": -330
    },
    "id": "053VBzIhq0-a",
    "outputId": "b8835769-5ebb-4a9d-b1bf-ee7d0836003e"
   },
   "outputs": [
    {
     "data": {
      "text/plain": [
       "(3044, 12)"
      ]
     },
     "execution_count": 18,
     "metadata": {},
     "output_type": "execute_result"
    }
   ],
   "source": [
    "x_train.shape"
   ]
  },
  {
   "cell_type": "code",
   "execution_count": 19,
   "metadata": {
    "colab": {
     "base_uri": "https://localhost:8080/"
    },
    "executionInfo": {
     "elapsed": 213,
     "status": "ok",
     "timestamp": 1749325135471,
     "user": {
      "displayName": "Abhijeet kashyap",
      "userId": "09627247903602119596"
     },
     "user_tz": -330
    },
    "id": "OHlM1284rfZf",
    "outputId": "d77ecd83-d1b1-4079-cad6-43e28784339d"
   },
   "outputs": [
    {
     "data": {
      "text/plain": [
       "(3044,)"
      ]
     },
     "execution_count": 19,
     "metadata": {},
     "output_type": "execute_result"
    }
   ],
   "source": [
    "y_train.shape"
   ]
  },
  {
   "cell_type": "code",
   "execution_count": 20,
   "metadata": {
    "executionInfo": {
     "elapsed": 224,
     "status": "ok",
     "timestamp": 1749325135601,
     "user": {
      "displayName": "Abhijeet kashyap",
      "userId": "09627247903602119596"
     },
     "user_tz": -330
    },
    "id": "5ONCDFMMqY9-"
   },
   "outputs": [],
   "source": [
    "# transformation applied\n",
    "transformer=transformation()\n",
    "transformer.fit(x_train,y_train) # y_train required for target encoder\n",
    "x_train_transformed=transformer.transform(x_train)\n",
    "x_test_transformed=transformer.transform(x_test)\n",
    "\n",
    "feature_names = transformer.get_feature_names_out()"
   ]
  },
  {
   "cell_type": "code",
   "execution_count": 45,
   "metadata": {},
   "outputs": [
    {
     "data": {
      "text/plain": [
       "['transformer_version.pkl']"
      ]
     },
     "execution_count": 45,
     "metadata": {},
     "output_type": "execute_result"
    }
   ],
   "source": [
    "joblib.dump(transformer,'transformer_version.pkl')"
   ]
  },
  {
   "cell_type": "code",
   "execution_count": 21,
   "metadata": {
    "colab": {
     "base_uri": "https://localhost:8080/"
    },
    "executionInfo": {
     "elapsed": 152,
     "status": "ok",
     "timestamp": 1749325135648,
     "user": {
      "displayName": "Abhijeet kashyap",
      "userId": "09627247903602119596"
     },
     "user_tz": -330
    },
    "id": "J55czVzAuZXl",
    "outputId": "de9168f5-a87f-4e27-d0c8-f91137c6d618"
   },
   "outputs": [
    {
     "data": {
      "text/plain": [
       "['tnf1__agePossession_new property',\n",
       " 'tnf1__agePossession_old property',\n",
       " 'tnf1__agePossession_relatively new',\n",
       " 'tnf1__agePossession_under construction',\n",
       " 'tnf1__type_house',\n",
       " 'tnf2__servant room',\n",
       " 'tnf3__pooja room',\n",
       " 'tnf4__floor_type',\n",
       " 'tnf5__luxury',\n",
       " 'tnf6__balcony',\n",
       " 'tnf7__furnishing_type',\n",
       " 'tnf8__sector',\n",
       " 'tnf9__built_up_area',\n",
       " 'remainder__bedRoom',\n",
       " 'remainder__bathroom']"
      ]
     },
     "execution_count": 21,
     "metadata": {},
     "output_type": "execute_result"
    }
   ],
   "source": [
    "feature_names.tolist()"
   ]
  },
  {
   "cell_type": "code",
   "execution_count": 22,
   "metadata": {
    "colab": {
     "base_uri": "https://localhost:8080/"
    },
    "executionInfo": {
     "elapsed": 234,
     "status": "ok",
     "timestamp": 1749325135888,
     "user": {
      "displayName": "Abhijeet kashyap",
      "userId": "09627247903602119596"
     },
     "user_tz": -330
    },
    "id": "uGTMNLFvu41M",
    "outputId": "864e839e-39cc-4d57-ebfb-4e689b3e58b2"
   },
   "outputs": [
    {
     "data": {
      "text/plain": [
       "(3044, 15)"
      ]
     },
     "execution_count": 22,
     "metadata": {},
     "output_type": "execute_result"
    }
   ],
   "source": [
    "x_train_transformed.shape"
   ]
  },
  {
   "cell_type": "code",
   "execution_count": 23,
   "metadata": {
    "colab": {
     "base_uri": "https://localhost:8080/"
    },
    "executionInfo": {
     "elapsed": 134,
     "status": "ok",
     "timestamp": 1749325135894,
     "user": {
      "displayName": "Abhijeet kashyap",
      "userId": "09627247903602119596"
     },
     "user_tz": -330
    },
    "id": "PIox5EyyNV5r",
    "outputId": "df7fa5cc-2700-4d78-a6c3-b5bf213251ee"
   },
   "outputs": [
    {
     "data": {
      "text/plain": [
       "(761, 15)"
      ]
     },
     "execution_count": 23,
     "metadata": {},
     "output_type": "execute_result"
    }
   ],
   "source": [
    "x_test_transformed.shape"
   ]
  },
  {
   "cell_type": "code",
   "execution_count": 24,
   "metadata": {
    "colab": {
     "base_uri": "https://localhost:8080/",
     "height": 461
    },
    "executionInfo": {
     "elapsed": 103,
     "status": "ok",
     "timestamp": 1749325135931,
     "user": {
      "displayName": "Abhijeet kashyap",
      "userId": "09627247903602119596"
     },
     "user_tz": -330
    },
    "id": "OpVaxsZsvHRf",
    "outputId": "87835d12-be78-4447-b105-835b7131d35d"
   },
   "outputs": [
    {
     "data": {
      "text/html": [
       "<div>\n",
       "<style scoped>\n",
       "    .dataframe tbody tr th:only-of-type {\n",
       "        vertical-align: middle;\n",
       "    }\n",
       "\n",
       "    .dataframe tbody tr th {\n",
       "        vertical-align: top;\n",
       "    }\n",
       "\n",
       "    .dataframe thead th {\n",
       "        text-align: right;\n",
       "    }\n",
       "</style>\n",
       "<table border=\"1\" class=\"dataframe\">\n",
       "  <thead>\n",
       "    <tr style=\"text-align: right;\">\n",
       "      <th></th>\n",
       "      <th>tnf1__agePossession_new property</th>\n",
       "      <th>tnf1__agePossession_old property</th>\n",
       "      <th>tnf1__agePossession_relatively new</th>\n",
       "      <th>tnf1__agePossession_under construction</th>\n",
       "      <th>tnf1__type_house</th>\n",
       "      <th>tnf2__servant room</th>\n",
       "      <th>tnf3__pooja room</th>\n",
       "      <th>tnf4__floor_type</th>\n",
       "      <th>tnf5__luxury</th>\n",
       "      <th>tnf6__balcony</th>\n",
       "      <th>tnf7__furnishing_type</th>\n",
       "      <th>tnf8__sector</th>\n",
       "      <th>tnf9__built_up_area</th>\n",
       "      <th>remainder__bedRoom</th>\n",
       "      <th>remainder__bathroom</th>\n",
       "    </tr>\n",
       "  </thead>\n",
       "  <tbody>\n",
       "    <tr>\n",
       "      <th>0</th>\n",
       "      <td>0.0</td>\n",
       "      <td>0.0</td>\n",
       "      <td>1.0</td>\n",
       "      <td>0.0</td>\n",
       "      <td>0.0</td>\n",
       "      <td>1.0</td>\n",
       "      <td>0.0</td>\n",
       "      <td>1.0</td>\n",
       "      <td>1.0</td>\n",
       "      <td>4.0</td>\n",
       "      <td>0.0</td>\n",
       "      <td>1.389323</td>\n",
       "      <td>1.222003</td>\n",
       "      <td>4.0</td>\n",
       "      <td>5.0</td>\n",
       "    </tr>\n",
       "    <tr>\n",
       "      <th>1</th>\n",
       "      <td>0.0</td>\n",
       "      <td>0.0</td>\n",
       "      <td>0.0</td>\n",
       "      <td>0.0</td>\n",
       "      <td>1.0</td>\n",
       "      <td>0.0</td>\n",
       "      <td>0.0</td>\n",
       "      <td>3.0</td>\n",
       "      <td>0.0</td>\n",
       "      <td>2.0</td>\n",
       "      <td>0.0</td>\n",
       "      <td>0.943390</td>\n",
       "      <td>-0.965716</td>\n",
       "      <td>2.0</td>\n",
       "      <td>2.0</td>\n",
       "    </tr>\n",
       "    <tr>\n",
       "      <th>2</th>\n",
       "      <td>0.0</td>\n",
       "      <td>0.0</td>\n",
       "      <td>0.0</td>\n",
       "      <td>1.0</td>\n",
       "      <td>0.0</td>\n",
       "      <td>0.0</td>\n",
       "      <td>0.0</td>\n",
       "      <td>1.0</td>\n",
       "      <td>0.0</td>\n",
       "      <td>3.0</td>\n",
       "      <td>0.0</td>\n",
       "      <td>1.257134</td>\n",
       "      <td>-0.067409</td>\n",
       "      <td>3.0</td>\n",
       "      <td>3.0</td>\n",
       "    </tr>\n",
       "    <tr>\n",
       "      <th>3</th>\n",
       "      <td>0.0</td>\n",
       "      <td>0.0</td>\n",
       "      <td>1.0</td>\n",
       "      <td>0.0</td>\n",
       "      <td>0.0</td>\n",
       "      <td>0.0</td>\n",
       "      <td>0.0</td>\n",
       "      <td>3.0</td>\n",
       "      <td>2.0</td>\n",
       "      <td>0.0</td>\n",
       "      <td>0.0</td>\n",
       "      <td>1.705875</td>\n",
       "      <td>-0.199643</td>\n",
       "      <td>3.0</td>\n",
       "      <td>3.0</td>\n",
       "    </tr>\n",
       "    <tr>\n",
       "      <th>4</th>\n",
       "      <td>0.0</td>\n",
       "      <td>0.0</td>\n",
       "      <td>0.0</td>\n",
       "      <td>0.0</td>\n",
       "      <td>0.0</td>\n",
       "      <td>1.0</td>\n",
       "      <td>0.0</td>\n",
       "      <td>1.0</td>\n",
       "      <td>0.0</td>\n",
       "      <td>4.0</td>\n",
       "      <td>0.0</td>\n",
       "      <td>0.775269</td>\n",
       "      <td>0.363672</td>\n",
       "      <td>3.0</td>\n",
       "      <td>3.0</td>\n",
       "    </tr>\n",
       "    <tr>\n",
       "      <th>...</th>\n",
       "      <td>...</td>\n",
       "      <td>...</td>\n",
       "      <td>...</td>\n",
       "      <td>...</td>\n",
       "      <td>...</td>\n",
       "      <td>...</td>\n",
       "      <td>...</td>\n",
       "      <td>...</td>\n",
       "      <td>...</td>\n",
       "      <td>...</td>\n",
       "      <td>...</td>\n",
       "      <td>...</td>\n",
       "      <td>...</td>\n",
       "      <td>...</td>\n",
       "      <td>...</td>\n",
       "    </tr>\n",
       "    <tr>\n",
       "      <th>3039</th>\n",
       "      <td>0.0</td>\n",
       "      <td>0.0</td>\n",
       "      <td>1.0</td>\n",
       "      <td>0.0</td>\n",
       "      <td>0.0</td>\n",
       "      <td>0.0</td>\n",
       "      <td>0.0</td>\n",
       "      <td>2.0</td>\n",
       "      <td>3.0</td>\n",
       "      <td>0.0</td>\n",
       "      <td>0.0</td>\n",
       "      <td>0.772828</td>\n",
       "      <td>-0.305429</td>\n",
       "      <td>3.0</td>\n",
       "      <td>3.0</td>\n",
       "    </tr>\n",
       "    <tr>\n",
       "      <th>3040</th>\n",
       "      <td>0.0</td>\n",
       "      <td>0.0</td>\n",
       "      <td>1.0</td>\n",
       "      <td>0.0</td>\n",
       "      <td>0.0</td>\n",
       "      <td>0.0</td>\n",
       "      <td>0.0</td>\n",
       "      <td>3.0</td>\n",
       "      <td>1.0</td>\n",
       "      <td>3.0</td>\n",
       "      <td>1.0</td>\n",
       "      <td>0.807512</td>\n",
       "      <td>-0.335402</td>\n",
       "      <td>3.0</td>\n",
       "      <td>3.0</td>\n",
       "    </tr>\n",
       "    <tr>\n",
       "      <th>3041</th>\n",
       "      <td>0.0</td>\n",
       "      <td>0.0</td>\n",
       "      <td>0.0</td>\n",
       "      <td>0.0</td>\n",
       "      <td>0.0</td>\n",
       "      <td>0.0</td>\n",
       "      <td>0.0</td>\n",
       "      <td>3.0</td>\n",
       "      <td>2.0</td>\n",
       "      <td>3.0</td>\n",
       "      <td>1.0</td>\n",
       "      <td>1.018257</td>\n",
       "      <td>-0.330112</td>\n",
       "      <td>3.0</td>\n",
       "      <td>4.0</td>\n",
       "    </tr>\n",
       "    <tr>\n",
       "      <th>3042</th>\n",
       "      <td>0.0</td>\n",
       "      <td>0.0</td>\n",
       "      <td>1.0</td>\n",
       "      <td>0.0</td>\n",
       "      <td>1.0</td>\n",
       "      <td>1.0</td>\n",
       "      <td>0.0</td>\n",
       "      <td>3.0</td>\n",
       "      <td>3.0</td>\n",
       "      <td>4.0</td>\n",
       "      <td>0.0</td>\n",
       "      <td>1.460007</td>\n",
       "      <td>3.285153</td>\n",
       "      <td>4.0</td>\n",
       "      <td>4.0</td>\n",
       "    </tr>\n",
       "    <tr>\n",
       "      <th>3043</th>\n",
       "      <td>0.0</td>\n",
       "      <td>0.0</td>\n",
       "      <td>1.0</td>\n",
       "      <td>0.0</td>\n",
       "      <td>1.0</td>\n",
       "      <td>0.0</td>\n",
       "      <td>0.0</td>\n",
       "      <td>2.0</td>\n",
       "      <td>0.0</td>\n",
       "      <td>1.0</td>\n",
       "      <td>0.0</td>\n",
       "      <td>0.643465</td>\n",
       "      <td>0.599436</td>\n",
       "      <td>4.0</td>\n",
       "      <td>5.0</td>\n",
       "    </tr>\n",
       "  </tbody>\n",
       "</table>\n",
       "<p>3044 rows × 15 columns</p>\n",
       "</div>"
      ],
      "text/plain": [
       "      tnf1__agePossession_new property  tnf1__agePossession_old property  \\\n",
       "0                                  0.0                               0.0   \n",
       "1                                  0.0                               0.0   \n",
       "2                                  0.0                               0.0   \n",
       "3                                  0.0                               0.0   \n",
       "4                                  0.0                               0.0   \n",
       "...                                ...                               ...   \n",
       "3039                               0.0                               0.0   \n",
       "3040                               0.0                               0.0   \n",
       "3041                               0.0                               0.0   \n",
       "3042                               0.0                               0.0   \n",
       "3043                               0.0                               0.0   \n",
       "\n",
       "      tnf1__agePossession_relatively new  \\\n",
       "0                                    1.0   \n",
       "1                                    0.0   \n",
       "2                                    0.0   \n",
       "3                                    1.0   \n",
       "4                                    0.0   \n",
       "...                                  ...   \n",
       "3039                                 1.0   \n",
       "3040                                 1.0   \n",
       "3041                                 0.0   \n",
       "3042                                 1.0   \n",
       "3043                                 1.0   \n",
       "\n",
       "      tnf1__agePossession_under construction  tnf1__type_house  \\\n",
       "0                                        0.0               0.0   \n",
       "1                                        0.0               1.0   \n",
       "2                                        1.0               0.0   \n",
       "3                                        0.0               0.0   \n",
       "4                                        0.0               0.0   \n",
       "...                                      ...               ...   \n",
       "3039                                     0.0               0.0   \n",
       "3040                                     0.0               0.0   \n",
       "3041                                     0.0               0.0   \n",
       "3042                                     0.0               1.0   \n",
       "3043                                     0.0               1.0   \n",
       "\n",
       "      tnf2__servant room  tnf3__pooja room  tnf4__floor_type  tnf5__luxury  \\\n",
       "0                    1.0               0.0               1.0           1.0   \n",
       "1                    0.0               0.0               3.0           0.0   \n",
       "2                    0.0               0.0               1.0           0.0   \n",
       "3                    0.0               0.0               3.0           2.0   \n",
       "4                    1.0               0.0               1.0           0.0   \n",
       "...                  ...               ...               ...           ...   \n",
       "3039                 0.0               0.0               2.0           3.0   \n",
       "3040                 0.0               0.0               3.0           1.0   \n",
       "3041                 0.0               0.0               3.0           2.0   \n",
       "3042                 1.0               0.0               3.0           3.0   \n",
       "3043                 0.0               0.0               2.0           0.0   \n",
       "\n",
       "      tnf6__balcony  tnf7__furnishing_type  tnf8__sector  tnf9__built_up_area  \\\n",
       "0               4.0                    0.0      1.389323             1.222003   \n",
       "1               2.0                    0.0      0.943390            -0.965716   \n",
       "2               3.0                    0.0      1.257134            -0.067409   \n",
       "3               0.0                    0.0      1.705875            -0.199643   \n",
       "4               4.0                    0.0      0.775269             0.363672   \n",
       "...             ...                    ...           ...                  ...   \n",
       "3039            0.0                    0.0      0.772828            -0.305429   \n",
       "3040            3.0                    1.0      0.807512            -0.335402   \n",
       "3041            3.0                    1.0      1.018257            -0.330112   \n",
       "3042            4.0                    0.0      1.460007             3.285153   \n",
       "3043            1.0                    0.0      0.643465             0.599436   \n",
       "\n",
       "      remainder__bedRoom  remainder__bathroom  \n",
       "0                    4.0                  5.0  \n",
       "1                    2.0                  2.0  \n",
       "2                    3.0                  3.0  \n",
       "3                    3.0                  3.0  \n",
       "4                    3.0                  3.0  \n",
       "...                  ...                  ...  \n",
       "3039                 3.0                  3.0  \n",
       "3040                 3.0                  3.0  \n",
       "3041                 3.0                  4.0  \n",
       "3042                 4.0                  4.0  \n",
       "3043                 4.0                  5.0  \n",
       "\n",
       "[3044 rows x 15 columns]"
      ]
     },
     "execution_count": 24,
     "metadata": {},
     "output_type": "execute_result"
    }
   ],
   "source": [
    "pd.DataFrame(x_train_transformed, columns=feature_names)"
   ]
  },
  {
   "cell_type": "code",
   "execution_count": 25,
   "metadata": {
    "colab": {
     "base_uri": "https://localhost:8080/"
    },
    "executionInfo": {
     "elapsed": 118,
     "status": "ok",
     "timestamp": 1749325136057,
     "user": {
      "displayName": "Abhijeet kashyap",
      "userId": "09627247903602119596"
     },
     "user_tz": -330
    },
    "id": "llD4SfEOP1bg",
    "outputId": "d34d5ea5-3b92-49e0-ab61-2f8c19f68b5f"
   },
   "outputs": [
    {
     "data": {
      "text/plain": [
       "<torch._C.Generator at 0x7f9528de99f0>"
      ]
     },
     "execution_count": 25,
     "metadata": {},
     "output_type": "execute_result"
    }
   ],
   "source": [
    "torch.manual_seed(42) # set for reproducibility"
   ]
  },
  {
   "cell_type": "code",
   "execution_count": 26,
   "metadata": {
    "colab": {
     "base_uri": "https://localhost:8080/"
    },
    "executionInfo": {
     "elapsed": 107,
     "status": "ok",
     "timestamp": 1749325136181,
     "user": {
      "displayName": "Abhijeet kashyap",
      "userId": "09627247903602119596"
     },
     "user_tz": -330
    },
    "id": "RmH0NCnKaxwu",
    "outputId": "cd30475b-8caa-4495-bf20-8b493be12027"
   },
   "outputs": [
    {
     "name": "stdout",
     "output_type": "stream",
     "text": [
      "cpu\n"
     ]
    }
   ],
   "source": [
    "# checking device avilability\n",
    "device=torch.device('cuda' if torch.cuda.is_available() else 'cpu')\n",
    "print(device)"
   ]
  },
  {
   "cell_type": "code",
   "execution_count": 27,
   "metadata": {
    "executionInfo": {
     "elapsed": 132,
     "status": "ok",
     "timestamp": 1749325136330,
     "user": {
      "displayName": "Abhijeet kashyap",
      "userId": "09627247903602119596"
     },
     "user_tz": -330
    },
    "id": "l7i8XfIp76pR"
   },
   "outputs": [],
   "source": [
    "class customdataset(Dataset):\n",
    "  def __init__(self,x_train_transformed,y_train):\n",
    "    self.x_tensor=torch.tensor(x_train_transformed,dtype=torch.float32)\n",
    "    self.y_tensor=torch.tensor(y_train.to_numpy(),dtype=torch.float32)\n",
    "\n",
    "  def __len__(self):\n",
    "    return self.x_tensor.shape[0]\n",
    "\n",
    "  def __getitem__(self,idx):\n",
    "    return self.x_tensor[idx],self.y_tensor[idx]\n",
    "\n",
    "\n",
    "\n",
    "obj=customdataset(x_train_transformed,y_train)\n",
    "test=customdataset(x_test_transformed,y_test)"
   ]
  },
  {
   "cell_type": "code",
   "execution_count": 35,
   "metadata": {
    "executionInfo": {
     "elapsed": 137,
     "status": "ok",
     "timestamp": 1749325136433,
     "user": {
      "displayName": "Abhijeet kashyap",
      "userId": "09627247903602119596"
     },
     "user_tz": -330
    },
    "id": "0R1cRqtpv1sw"
   },
   "outputs": [],
   "source": [
    "loader=DataLoader(obj,batch_size=32,shuffle=True,num_workers=0)"
   ]
  },
  {
   "cell_type": "code",
   "execution_count": 36,
   "metadata": {
    "executionInfo": {
     "elapsed": 94,
     "status": "ok",
     "timestamp": 1749325136563,
     "user": {
      "displayName": "Abhijeet kashyap",
      "userId": "09627247903602119596"
     },
     "user_tz": -330
    },
    "id": "K_m8hGkyv77u"
   },
   "outputs": [],
   "source": [
    "test_loader=DataLoader(test,batch_size=32,shuffle=False,num_workers=0)"
   ]
  },
  {
   "cell_type": "code",
   "execution_count": 37,
   "metadata": {
    "executionInfo": {
     "elapsed": 151,
     "status": "ok",
     "timestamp": 1749325136750,
     "user": {
      "displayName": "Abhijeet kashyap",
      "userId": "09627247903602119596"
     },
     "user_tz": -330
    },
    "id": "elbEzcusv72_"
   },
   "outputs": [],
   "source": [
    "# collate function by default in Dataloader no custom defnition"
   ]
  },
  {
   "cell_type": "code",
   "execution_count": 38,
   "metadata": {
    "colab": {
     "base_uri": "https://localhost:8080/"
    },
    "executionInfo": {
     "elapsed": 94,
     "status": "ok",
     "timestamp": 1749325136788,
     "user": {
      "displayName": "Abhijeet kashyap",
      "userId": "09627247903602119596"
     },
     "user_tz": -330
    },
    "id": "4qXHpbKPCmeO",
    "outputId": "0ac2ba67-a44a-4697-9228-b3759b9d51cc"
   },
   "outputs": [
    {
     "name": "stdout",
     "output_type": "stream",
     "text": [
      "\n",
      "Batch 0\n",
      "   tnf1__agePossession_new property  tnf1__agePossession_old property  \\\n",
      "0                               0.0                               0.0   \n",
      "1                               0.0                               0.0   \n",
      "2                               0.0                               1.0   \n",
      "3                               0.0                               0.0   \n",
      "4                               0.0                               0.0   \n",
      "\n",
      "   tnf1__agePossession_relatively new  tnf1__agePossession_under construction  \\\n",
      "0                                 0.0                                     1.0   \n",
      "1                                 1.0                                     0.0   \n",
      "2                                 0.0                                     0.0   \n",
      "3                                 1.0                                     0.0   \n",
      "4                                 1.0                                     0.0   \n",
      "\n",
      "   tnf1__type_house  tnf2__servant room  tnf3__pooja room  tnf4__floor_type  \\\n",
      "0               0.0                 0.0               0.0               1.0   \n",
      "1               0.0                 1.0               0.0               3.0   \n",
      "2               0.0                 0.0               0.0               3.0   \n",
      "3               0.0                 0.0               0.0               1.0   \n",
      "4               0.0                 0.0               0.0               1.0   \n",
      "\n",
      "   tnf5__luxury  tnf6__balcony  tnf7__furnishing_type  tnf8__sector  \\\n",
      "0           1.0            2.0                    0.0      0.466838   \n",
      "1           3.0            2.0                    0.0      0.815943   \n",
      "2           0.0            4.0                    1.0      1.424682   \n",
      "3           0.0            2.0                    0.0      0.807512   \n",
      "4           2.0            4.0                    0.0      0.777438   \n",
      "\n",
      "   tnf9__built_up_area  remainder__bedRoom  remainder__bathroom  \n",
      "0            -0.706538                 2.0                  2.0  \n",
      "1            -0.081514                 3.0                  3.0  \n",
      "2             0.108902                 4.0                  3.0  \n",
      "3            -0.633016                 2.0                  2.0  \n",
      "4             0.020747                 4.0                  4.0  \n",
      "      price\n",
      "0  0.657520\n",
      "1  0.810930\n",
      "2  1.011601\n",
      "3  0.582216\n",
      "4  0.974560\n"
     ]
    }
   ],
   "source": [
    "for batch_no, (batch_features, batch_labels) in enumerate(loader):\n",
    "    df_features = pd.DataFrame(batch_features.numpy(), columns=feature_names)\n",
    "    df_labels = pd.DataFrame(batch_labels.numpy(), columns=['price'])\n",
    "    print(f\"\\nBatch {batch_no}\")\n",
    "    print(df_features.head())\n",
    "    print(df_labels.head())\n",
    "    break"
   ]
  },
  {
   "cell_type": "code",
   "execution_count": 40,
   "metadata": {
    "executionInfo": {
     "elapsed": 53,
     "status": "ok",
     "timestamp": 1749325660726,
     "user": {
      "displayName": "Abhijeet kashyap",
      "userId": "09627247903602119596"
     },
     "user_tz": -330
    },
    "id": "xZyHtqvtv70e"
   },
   "outputs": [],
   "source": [
    "# Defining Archtitecture and parameters\n",
    "\n",
    "class MyAnn(nn.Module):\n",
    "  def __init__(self,input_dim):\n",
    "    super().__init__()\n",
    "\n",
    "    # Intializing layers in sequential container\n",
    "    self.model=nn.Sequential(\n",
    "        # ist layer\n",
    "        nn.Linear(out_features=12,in_features=input_dim),\n",
    "        nn.BatchNorm1d(12,affine=True),\n",
    "        nn.ReLU(),\n",
    "\n",
    "        # 2nd layer\n",
    "        nn.Linear(out_features=10,in_features=12),\n",
    "        nn.BatchNorm1d(10,affine=True),\n",
    "        nn.ReLU(),\n",
    "\n",
    "        # 3rd layer\n",
    "        nn.Linear(out_features=8,in_features=10),\n",
    "        #nn.Dropout1d(p=0.2),\n",
    "        nn.BatchNorm1d(8,affine=True),\n",
    "        nn.ReLU(),\n",
    "\n",
    "        # 4th layer\n",
    "        nn.Linear(out_features=6,in_features=8),\n",
    "        nn.BatchNorm1d(6,affine=True),\n",
    "        nn.ReLU(),\n",
    "\n",
    "        # 5th layer\n",
    "        nn.Linear(out_features=4,in_features=6),\n",
    "        nn.BatchNorm1d(4,affine=True),\n",
    "        nn.ReLU(),\n",
    "        # output\n",
    "        nn.Linear(out_features=1, in_features=4)\n",
    "      )\n",
    "\n",
    "  def forward(self,train_data):\n",
    "    output= self.model(train_data)\n",
    "    return output.squeeze(1)\n",
    "\n"
   ]
  },
  {
   "cell_type": "code",
   "execution_count": 41,
   "metadata": {
    "executionInfo": {
     "elapsed": 47,
     "status": "ok",
     "timestamp": 1749325662634,
     "user": {
      "displayName": "Abhijeet kashyap",
      "userId": "09627247903602119596"
     },
     "user_tz": -330
    },
    "id": "Zbh4sS7RGpxU"
   },
   "outputs": [
    {
     "data": {
      "text/plain": [
       "<All keys matched successfully>"
      ]
     },
     "execution_count": 41,
     "metadata": {},
     "output_type": "execute_result"
    }
   ],
   "source": [
    "# making obj\n",
    "input_dim=x_train_transformed.shape[1]\n",
    "model=MyAnn(input_dim)\n",
    "model.load_state_dict(state)"
   ]
  },
  {
   "cell_type": "code",
   "execution_count": 46,
   "metadata": {},
   "outputs": [
    {
     "data": {
      "text/plain": [
       "15"
      ]
     },
     "execution_count": 46,
     "metadata": {},
     "output_type": "execute_result"
    }
   ],
   "source": [
    "input_dim"
   ]
  },
  {
   "cell_type": "code",
   "execution_count": 42,
   "metadata": {
    "colab": {
     "base_uri": "https://localhost:8080/"
    },
    "executionInfo": {
     "elapsed": 52,
     "status": "ok",
     "timestamp": 1749325664494,
     "user": {
      "displayName": "Abhijeet kashyap",
      "userId": "09627247903602119596"
     },
     "user_tz": -330
    },
    "id": "c68tGoBpMj0N",
    "outputId": "a0adf51a-8862-4d70-a308-eb4a6b650d2d"
   },
   "outputs": [
    {
     "data": {
      "text/plain": [
       "MyAnn(\n",
       "  (model): Sequential(\n",
       "    (0): Linear(in_features=15, out_features=12, bias=True)\n",
       "    (1): BatchNorm1d(12, eps=1e-05, momentum=0.1, affine=True, track_running_stats=True)\n",
       "    (2): ReLU()\n",
       "    (3): Linear(in_features=12, out_features=10, bias=True)\n",
       "    (4): BatchNorm1d(10, eps=1e-05, momentum=0.1, affine=True, track_running_stats=True)\n",
       "    (5): ReLU()\n",
       "    (6): Linear(in_features=10, out_features=8, bias=True)\n",
       "    (7): BatchNorm1d(8, eps=1e-05, momentum=0.1, affine=True, track_running_stats=True)\n",
       "    (8): ReLU()\n",
       "    (9): Linear(in_features=8, out_features=6, bias=True)\n",
       "    (10): BatchNorm1d(6, eps=1e-05, momentum=0.1, affine=True, track_running_stats=True)\n",
       "    (11): ReLU()\n",
       "    (12): Linear(in_features=6, out_features=4, bias=True)\n",
       "    (13): BatchNorm1d(4, eps=1e-05, momentum=0.1, affine=True, track_running_stats=True)\n",
       "    (14): ReLU()\n",
       "    (15): Linear(in_features=4, out_features=1, bias=True)\n",
       "  )\n",
       ")"
      ]
     },
     "execution_count": 42,
     "metadata": {},
     "output_type": "execute_result"
    }
   ],
   "source": [
    "model"
   ]
  },
  {
   "cell_type": "code",
   "execution_count": 43,
   "metadata": {},
   "outputs": [
    {
     "data": {
      "text/plain": [
       "OrderedDict([('model.0.weight',\n",
       "              tensor([[ 0.0379, -0.4404,  0.4017,  0.6162, -0.4574,  0.3572,  0.0760,  0.2552,\n",
       "                        0.1130, -0.0933, -0.4808,  1.4027,  0.1704, -0.3273,  0.2913],\n",
       "                      [-0.5162,  0.0863, -0.6757, -0.0893, -0.6332, -0.5123, -0.3370,  0.5713,\n",
       "                       -0.3593, -0.5496, -0.3215, -0.2948, -0.3345,  0.5505, -0.1160],\n",
       "                      [-0.7446, -0.3777, -0.3919,  0.3436, -0.0422, -0.3857, -0.1183, -0.1196,\n",
       "                       -0.0580, -0.2051, -0.0269, -0.9366,  1.2485, -0.1479,  0.2279],\n",
       "                      [ 0.5716, -0.4040,  0.8683, -0.1538,  0.5710, -0.0385, -0.2909,  0.1065,\n",
       "                       -0.1367, -0.2452, -0.0185, -0.9797, -0.3423, -0.3198,  0.2974],\n",
       "                      [-0.5369,  0.2299, -0.2468, -0.6628, -2.4385,  0.2696,  0.1873,  0.0462,\n",
       "                       -0.0557,  0.1083, -0.1098,  0.7598, -0.1863, -0.3523,  0.3058],\n",
       "                      [-0.2563,  0.0776, -0.0929,  0.1851, -0.1224,  0.1294, -0.1975, -0.1357,\n",
       "                        0.0085,  0.2323, -0.0666, -2.0657, -0.1385,  0.1477, -0.1358],\n",
       "                      [ 0.3119,  0.6777, -0.2138, -0.8065, -0.3394, -0.5910, -0.0812,  0.4198,\n",
       "                       -0.3172, -0.5838,  0.0667, -0.0309, -0.2955, -0.0865, -0.2268],\n",
       "                      [ 0.4786,  0.3481,  0.4446, -0.2301,  0.8684,  0.1876, -0.4961, -0.0534,\n",
       "                       -0.0109,  0.4347,  0.1354,  1.8410,  0.2243,  0.0283,  0.0401],\n",
       "                      [-0.3683,  0.4513,  0.0028, -0.3317, -0.0651, -0.4587,  0.4564,  0.0880,\n",
       "                        0.4503, -0.0317, -0.0439, -0.6885, -0.5735,  0.0054, -0.7940],\n",
       "                      [ 0.1721, -0.2432, -0.2215,  0.5871,  0.1916,  0.0246,  0.3285, -0.2882,\n",
       "                       -0.7218, -0.7389, -0.1387,  0.9165,  0.6199,  0.3098, -0.3431],\n",
       "                      [-0.3329,  0.2931, -0.2654, -0.7416,  0.4252,  1.1326,  1.0171,  0.0927,\n",
       "                       -0.0771,  0.0920,  0.4322,  0.3481, -0.1744, -0.1099,  0.2165],\n",
       "                      [ 0.0046, -0.0551, -0.1516,  0.0874, -0.1109,  0.1224,  0.0967, -0.0166,\n",
       "                       -0.1377, -0.1905, -0.0125, -1.4992, -0.9197, -0.1111, -0.1685]])),\n",
       "             ('model.0.bias',\n",
       "              tensor([-0.0135,  0.0340,  0.0050,  0.0089, -0.0303,  0.0135,  0.0354, -0.0805,\n",
       "                       0.0061, -0.0293, -0.0119, -0.0231])),\n",
       "             ('model.1.weight',\n",
       "              tensor([0.8315, 0.9205, 0.5771, 1.0172, 0.7927, 0.8651, 0.8500, 1.0267, 1.4545,\n",
       "                      0.7074, 0.8741, 1.5241])),\n",
       "             ('model.1.bias',\n",
       "              tensor([ 0.6351, -0.1470,  0.3308, -0.2062,  0.3556,  0.5670, -0.3220,  0.5519,\n",
       "                       0.0098, -0.3425,  0.1948,  0.0152])),\n",
       "             ('model.1.running_mean',\n",
       "              tensor([ 1.8221, -0.6067, -2.0553, -1.1701,  0.1889, -1.8540, -2.5266,  3.6482,\n",
       "                      -2.7700, -2.8966,  1.7344, -3.3522])),\n",
       "             ('model.1.running_var',\n",
       "              tensor([0.5899, 2.1121, 1.3945, 0.9172, 1.1740, 0.6699, 2.5242, 1.6554, 3.9263,\n",
       "                      2.2531, 1.3655, 2.8117])),\n",
       "             ('model.1.num_batches_tracked', tensor(48024)),\n",
       "             ('model.3.weight',\n",
       "              tensor([[ 2.5187e-01,  1.4116e-01,  3.5031e-01, -1.0325e+00,  7.0275e-04,\n",
       "                       -4.1658e-01, -1.6611e-01,  6.6136e-01, -3.4858e-01,  6.6109e-01,\n",
       "                        2.5740e-01,  1.2437e-01],\n",
       "                      [ 1.0915e-01, -3.5869e-01,  1.2658e-01,  2.6224e-01,  2.4216e-01,\n",
       "                       -2.4760e-01,  5.4526e-01,  2.4801e-01,  2.2092e-01,  1.8825e-01,\n",
       "                       -5.2288e-01,  1.2477e+00],\n",
       "                      [ 2.6547e-01,  2.1931e-01, -5.6736e-01, -7.4926e-01, -2.2801e-01,\n",
       "                       -8.9363e-01, -2.6020e-01, -2.2326e-01,  1.2843e-01,  2.7665e-01,\n",
       "                        1.5805e-01, -4.5392e-01],\n",
       "                      [ 4.7023e-01,  2.6966e-01,  3.6043e-01, -4.0819e-01, -5.9743e-01,\n",
       "                        6.1614e-01, -1.3536e+00, -2.8642e-01,  2.3255e-01, -6.9268e-02,\n",
       "                        3.2673e-01, -8.2405e-01],\n",
       "                      [ 7.8725e-01, -1.6088e-01, -1.7258e-01, -4.0353e-01, -7.1391e-01,\n",
       "                       -6.2446e-01, -6.2590e-01,  2.6360e-01,  7.0116e-01,  1.2342e-01,\n",
       "                        2.5132e-01,  6.1052e-01],\n",
       "                      [ 2.1767e-01,  1.4091e-01, -7.4194e-02, -5.0143e-02,  7.0767e-02,\n",
       "                        7.4633e-01,  1.0798e-01, -9.7584e-01, -3.1468e-01,  9.5184e-02,\n",
       "                        4.8979e-01, -7.3453e-01],\n",
       "                      [ 3.3991e-01,  9.0545e-02, -7.7275e-02, -8.0455e-01, -8.8992e-02,\n",
       "                       -6.3495e-01,  1.0806e-01,  3.7328e-01, -1.1373e+00, -4.4143e-01,\n",
       "                        7.9168e-01, -9.9400e-02],\n",
       "                      [-1.7659e-01,  7.5811e-01,  2.2153e-01,  2.6402e-01,  4.9869e-01,\n",
       "                        4.5425e-01, -7.6425e-01, -5.4504e-01,  2.1439e-01, -2.3251e-01,\n",
       "                        1.4945e-02,  4.8809e-01],\n",
       "                      [ 3.1549e-01,  7.8254e-02, -1.1784e+00,  2.1035e-01,  6.2824e-01,\n",
       "                        3.1019e-01, -2.3101e-03,  2.5408e-01,  3.8925e-01,  2.9422e-01,\n",
       "                       -2.0774e-01,  1.9108e-01],\n",
       "                      [-5.4213e-01, -2.9529e-01,  2.4989e-02, -1.1449e-01, -3.3439e-01,\n",
       "                       -6.6450e-01,  1.2502e-01,  2.7476e-01, -9.7657e-01,  7.2164e-02,\n",
       "                       -4.1328e-03,  6.1594e-01]])),\n",
       "             ('model.3.bias',\n",
       "              tensor([ 0.0306,  0.0592, -0.0057, -0.0231, -0.0228,  0.0249,  0.0004, -0.0531,\n",
       "                       0.0390, -0.0463])),\n",
       "             ('model.4.weight',\n",
       "              tensor([1.1558, 1.2219, 0.8484, 1.1814, 0.6855, 0.9315, 0.9222, 1.1097, 0.8548,\n",
       "                      0.9276])),\n",
       "             ('model.4.bias',\n",
       "              tensor([ 0.2558, -0.4515,  0.1407, -0.0495,  0.2365, -0.0993, -0.0220,  0.0738,\n",
       "                       0.4244,  0.3902])),\n",
       "             ('model.4.running_mean',\n",
       "              tensor([ 0.3320,  1.0618, -1.2642, -0.1795,  0.4093, -0.2972, -0.6081,  0.6437,\n",
       "                       0.9385, -1.1729])),\n",
       "             ('model.4.running_var',\n",
       "              tensor([2.0591, 1.4585, 0.7793, 1.3236, 0.8303, 0.5566, 3.5978, 1.1488, 0.7765,\n",
       "                      0.5196])),\n",
       "             ('model.4.num_batches_tracked', tensor(48024)),\n",
       "             ('model.6.weight',\n",
       "              tensor([[ 0.5261, -0.4979,  0.5427,  0.2514,  0.5039, -0.6936,  0.6533, -0.5175,\n",
       "                       -0.4770,  0.6028],\n",
       "                      [ 0.1672,  0.1050,  0.4354, -0.3282,  0.7327, -0.2402, -0.6263,  0.5073,\n",
       "                       -0.2066,  0.8244],\n",
       "                      [-0.2304,  0.5078, -0.1961, -0.0425, -0.0772, -0.0253, -1.0316,  0.7355,\n",
       "                        0.2841,  0.2453],\n",
       "                      [-0.0336,  0.8321, -0.6973, -0.8016, -0.3128,  0.3447,  0.1467,  0.7139,\n",
       "                        0.4240, -0.1463],\n",
       "                      [ 0.8884,  1.0321, -0.3332, -0.7702, -0.0046,  0.1062, -0.3352,  0.5644,\n",
       "                        0.3778,  0.5077],\n",
       "                      [ 0.4369,  0.6264, -0.5174, -0.6252,  0.0608,  0.7864, -0.6665,  0.1153,\n",
       "                        0.2758,  0.1185],\n",
       "                      [ 0.8823,  0.4025,  0.2406,  0.1166, -0.4422, -0.1130, -0.0659, -1.1602,\n",
       "                       -0.4581, -0.1300],\n",
       "                      [ 0.3065, -0.3828,  0.9521, -0.5810, -0.1547,  0.6487, -0.1671,  0.0014,\n",
       "                        0.5384,  0.7442]])),\n",
       "             ('model.6.bias',\n",
       "              tensor([ 0.0002, -0.1065, -0.0270, -0.0193, -0.0873,  0.0783, -0.0523, -0.0305])),\n",
       "             ('model.7.weight',\n",
       "              tensor([1.2013, 0.7077, 0.5573, 1.0273, 1.1105, 0.7168, 1.1640, 0.7878])),\n",
       "             ('model.7.bias',\n",
       "              tensor([-0.1175, -0.0758,  0.0114, -0.6304, -0.7518, -0.7468,  0.0245, -0.5149])),\n",
       "             ('model.7.running_mean',\n",
       "              tensor([ 0.5104,  0.6766,  0.1710,  0.1715,  1.0393,  0.3948, -0.4148,  1.0537])),\n",
       "             ('model.7.running_var',\n",
       "              tensor([4.1935, 0.6207, 1.9200, 2.3342, 1.4240, 0.7251, 1.5121, 0.5920])),\n",
       "             ('model.7.num_batches_tracked', tensor(48024)),\n",
       "             ('model.9.weight',\n",
       "              tensor([[ 7.5333e-01, -3.7337e-01, -6.9289e-01, -2.0213e-01, -7.6917e-01,\n",
       "                        2.1736e-01,  5.1610e-01, -8.6660e-05],\n",
       "                      [ 2.5351e-01, -7.1619e-01,  4.4205e-01, -1.0837e+00, -8.7068e-02,\n",
       "                       -2.2959e-01, -2.5682e-01,  4.8390e-01],\n",
       "                      [-8.3936e-01,  9.2311e-01, -3.2204e-01,  3.8800e-01,  8.1223e-01,\n",
       "                       -4.2454e-01,  7.9109e-02, -5.9962e-01],\n",
       "                      [ 1.1100e-01, -4.9465e-01,  1.9953e-01, -4.6772e-01,  6.6169e-01,\n",
       "                       -6.4105e-01, -4.3318e-01, -2.7161e-03],\n",
       "                      [-2.0174e-01, -1.4175e-01, -2.4592e-01, -1.6654e-02,  7.0153e-01,\n",
       "                        5.2257e-02, -4.2598e-01, -7.9313e-02],\n",
       "                      [-6.8421e-01,  4.1401e-02, -6.3311e-01,  5.2279e-01,  9.3305e-01,\n",
       "                       -4.3716e-01,  6.1240e-01,  4.9742e-01]])),\n",
       "             ('model.9.bias',\n",
       "              tensor([-0.0983,  0.0137,  0.0400, -0.0943,  0.0221, -0.0014])),\n",
       "             ('model.10.weight',\n",
       "              tensor([0.9476, 0.5086, 1.0311, 1.0340, 1.0132, 0.9045])),\n",
       "             ('model.10.bias',\n",
       "              tensor([ 0.4817,  0.4199, -0.0098, -0.4313, -0.9637, -0.2937])),\n",
       "             ('model.10.running_mean',\n",
       "              tensor([ 0.0552, -0.2501, -0.0128, -0.3343, -0.2325,  0.2052])),\n",
       "             ('model.10.running_var',\n",
       "              tensor([1.6257, 0.3563, 0.7236, 0.1233, 0.3814, 0.2902])),\n",
       "             ('model.10.num_batches_tracked', tensor(48024)),\n",
       "             ('model.12.weight',\n",
       "              tensor([[ 0.1216,  0.4356, -0.6329, -1.3874, -0.0164, -0.5781],\n",
       "                      [ 0.1042,  0.1897, -0.5028, -1.1946, -0.5034,  0.2533],\n",
       "                      [ 1.0229,  0.0585,  0.0910, -0.1478, -0.8587, -0.1520],\n",
       "                      [ 0.4246,  0.8534, -0.9084, -1.1810,  0.7057, -0.5572]])),\n",
       "             ('model.12.bias', tensor([ 0.0227, -0.0180,  0.0124,  0.0155])),\n",
       "             ('model.13.weight', tensor([0.8019, 0.8354, 1.0874, 0.7814])),\n",
       "             ('model.13.bias', tensor([-0.3052, -0.3784,  0.9462, -0.4067])),\n",
       "             ('model.13.running_mean',\n",
       "              tensor([-0.2657, -0.2277,  0.5868,  0.1624])),\n",
       "             ('model.13.running_var',\n",
       "              tensor([1.2693, 0.4386, 0.8061, 1.5319])),\n",
       "             ('model.13.num_batches_tracked', tensor(48024)),\n",
       "             ('model.15.weight',\n",
       "              tensor([[-0.3246, -0.4892,  0.7383, -0.7512]])),\n",
       "             ('model.15.bias', tensor([0.3797]))])"
      ]
     },
     "execution_count": 43,
     "metadata": {},
     "output_type": "execute_result"
    }
   ],
   "source": [
    "model.state_dict()"
   ]
  },
  {
   "cell_type": "code",
   "execution_count": 45,
   "metadata": {
    "executionInfo": {
     "elapsed": 58,
     "status": "ok",
     "timestamp": 1749325666980,
     "user": {
      "displayName": "Abhijeet kashyap",
      "userId": "09627247903602119596"
     },
     "user_tz": -330
    },
    "id": "Fn2l0QkzMgtS"
   },
   "outputs": [],
   "source": [
    "def init_weights(parameter):\n",
    "      # Intialized weights and bias\n",
    "      if isinstance(parameter,nn.Linear):\n",
    "        init.kaiming_uniform_(parameter.weight, nonlinearity='relu')\n",
    "\n",
    "        if parameter.bias is  not None:\n",
    "          init.zeros_(parameter.bias)\n",
    "\n",
    "      # intializing gamma and betta of batchnorm\n",
    "      elif isinstance(parameter,nn.BatchNorm1d):\n",
    "        init.ones_(parameter.weight)\n",
    "        init.zeros_(parameter.bias)"
   ]
  },
  {
   "cell_type": "code",
   "execution_count": 46,
   "metadata": {
    "colab": {
     "base_uri": "https://localhost:8080/"
    },
    "executionInfo": {
     "elapsed": 63,
     "status": "ok",
     "timestamp": 1749325668785,
     "user": {
      "displayName": "Abhijeet kashyap",
      "userId": "09627247903602119596"
     },
     "user_tz": -330
    },
    "id": "ynEVW88bM7jR",
    "outputId": "15114335-b8e5-4ae0-d024-405e788eaeb1"
   },
   "outputs": [
    {
     "data": {
      "text/plain": [
       "MyAnn(\n",
       "  (model): Sequential(\n",
       "    (0): Linear(in_features=15, out_features=12, bias=True)\n",
       "    (1): BatchNorm1d(12, eps=1e-05, momentum=0.1, affine=True, track_running_stats=True)\n",
       "    (2): ReLU()\n",
       "    (3): Linear(in_features=12, out_features=10, bias=True)\n",
       "    (4): BatchNorm1d(10, eps=1e-05, momentum=0.1, affine=True, track_running_stats=True)\n",
       "    (5): ReLU()\n",
       "    (6): Linear(in_features=10, out_features=8, bias=True)\n",
       "    (7): BatchNorm1d(8, eps=1e-05, momentum=0.1, affine=True, track_running_stats=True)\n",
       "    (8): ReLU()\n",
       "    (9): Linear(in_features=8, out_features=6, bias=True)\n",
       "    (10): BatchNorm1d(6, eps=1e-05, momentum=0.1, affine=True, track_running_stats=True)\n",
       "    (11): ReLU()\n",
       "    (12): Linear(in_features=6, out_features=4, bias=True)\n",
       "    (13): BatchNorm1d(4, eps=1e-05, momentum=0.1, affine=True, track_running_stats=True)\n",
       "    (14): ReLU()\n",
       "    (15): Linear(in_features=4, out_features=1, bias=True)\n",
       "  )\n",
       ")"
      ]
     },
     "execution_count": 46,
     "metadata": {},
     "output_type": "execute_result"
    }
   ],
   "source": [
    "model.apply(init_weights)"
   ]
  },
  {
   "cell_type": "code",
   "execution_count": 47,
   "metadata": {
    "colab": {
     "base_uri": "https://localhost:8080/"
    },
    "executionInfo": {
     "elapsed": 85,
     "status": "ok",
     "timestamp": 1749325672931,
     "user": {
      "displayName": "Abhijeet kashyap",
      "userId": "09627247903602119596"
     },
     "user_tz": -330
    },
    "id": "ab_7WXpsNAYh",
    "outputId": "29672114-93fd-4a5b-aeb1-18a54e7bb255"
   },
   "outputs": [
    {
     "data": {
      "text/plain": [
       "OrderedDict([('model.0.weight',\n",
       "              tensor([[-0.5453, -0.5477, -0.4425, -0.4162,  0.5845, -0.1715,  0.3262,  0.2606,\n",
       "                        0.2353, -0.6177,  0.6160,  0.3909, -0.5895, -0.4157,  0.2633],\n",
       "                      [-0.1302, -0.4448,  0.1163, -0.5942,  0.5090,  0.5261,  0.3310,  0.2941,\n",
       "                       -0.3930, -0.0640,  0.3136,  0.1548,  0.5199,  0.1427, -0.5037],\n",
       "                      [-0.4024,  0.4487,  0.3920,  0.1585,  0.0919,  0.3699, -0.6186, -0.6091,\n",
       "                       -0.3128, -0.3020, -0.0726,  0.2739, -0.1700,  0.0127, -0.4864],\n",
       "                      [-0.2628,  0.4952,  0.5034, -0.1597,  0.2480,  0.5228,  0.4667, -0.0130,\n",
       "                       -0.4083, -0.1886,  0.3411, -0.2890,  0.3232, -0.4558,  0.2765],\n",
       "                      [ 0.3960, -0.1117,  0.6268,  0.3850,  0.0138, -0.1384,  0.0476, -0.3538,\n",
       "                       -0.0921, -0.5844,  0.2126,  0.0742, -0.4937, -0.1426,  0.2217],\n",
       "                      [-0.3999,  0.2553, -0.4583,  0.0337, -0.0845, -0.4658, -0.1012, -0.3007,\n",
       "                       -0.1140,  0.0720, -0.1001, -0.0719,  0.5057,  0.4881, -0.3268],\n",
       "                      [ 0.0836,  0.2376,  0.0424,  0.0496, -0.2429,  0.1155, -0.3670, -0.1347,\n",
       "                       -0.2774,  0.2164,  0.2207, -0.5419, -0.4988,  0.0119,  0.1901],\n",
       "                      [-0.6059,  0.0494, -0.3781, -0.5457,  0.5547, -0.4056, -0.3016,  0.6113,\n",
       "                       -0.3784, -0.2579, -0.3822, -0.3319,  0.0743,  0.3298,  0.2065],\n",
       "                      [-0.1826,  0.1674, -0.4651,  0.4759, -0.4520,  0.2904, -0.4879, -0.2688,\n",
       "                       -0.5754,  0.0941,  0.3144, -0.4383,  0.2323, -0.1477,  0.1307],\n",
       "                      [-0.4322, -0.4687, -0.0920,  0.2523, -0.6164, -0.4142, -0.4798, -0.1081,\n",
       "                       -0.4540, -0.3407, -0.2906, -0.4292, -0.3714, -0.2763, -0.1707],\n",
       "                      [ 0.5111, -0.0263,  0.5372,  0.0581,  0.2960,  0.2254, -0.0368,  0.5959,\n",
       "                       -0.3654, -0.1728,  0.1127,  0.0501, -0.2401,  0.3529, -0.5756],\n",
       "                      [ 0.5789,  0.1609, -0.0925,  0.5696, -0.2379, -0.6202, -0.4514,  0.5123,\n",
       "                       -0.3375,  0.1813, -0.1826,  0.4058, -0.2649,  0.5405,  0.5606]])),\n",
       "             ('model.0.bias',\n",
       "              tensor([0., 0., 0., 0., 0., 0., 0., 0., 0., 0., 0., 0.])),\n",
       "             ('model.1.weight',\n",
       "              tensor([1., 1., 1., 1., 1., 1., 1., 1., 1., 1., 1., 1.])),\n",
       "             ('model.1.bias',\n",
       "              tensor([0., 0., 0., 0., 0., 0., 0., 0., 0., 0., 0., 0.])),\n",
       "             ('model.1.running_mean',\n",
       "              tensor([0., 0., 0., 0., 0., 0., 0., 0., 0., 0., 0., 0.])),\n",
       "             ('model.1.running_var',\n",
       "              tensor([1., 1., 1., 1., 1., 1., 1., 1., 1., 1., 1., 1.])),\n",
       "             ('model.1.num_batches_tracked', tensor(0)),\n",
       "             ('model.3.weight',\n",
       "              tensor([[ 0.0423, -0.5383,  0.1035, -0.3347, -0.5227, -0.1736, -0.1135,  0.1291,\n",
       "                       -0.0901,  0.1236, -0.1023, -0.7023],\n",
       "                      [ 0.0303,  0.1890,  0.5517, -0.6244, -0.3090, -0.4362, -0.1905, -0.3289,\n",
       "                        0.6378, -0.5183, -0.4886, -0.0723],\n",
       "                      [ 0.1674,  0.6433,  0.1508,  0.6122,  0.1816, -0.6507,  0.1880,  0.1142,\n",
       "                       -0.1630,  0.2276, -0.4122,  0.6394],\n",
       "                      [-0.4796,  0.6952,  0.5162,  0.5027, -0.1926, -0.6257,  0.4894, -0.5746,\n",
       "                       -0.5649, -0.0435, -0.5379,  0.1361],\n",
       "                      [ 0.5623, -0.1482, -0.2019, -0.3729,  0.2375,  0.1155,  0.5422, -0.6913,\n",
       "                        0.2035, -0.4575,  0.3937, -0.1909],\n",
       "                      [ 0.6272, -0.2353, -0.6924, -0.0855,  0.6614, -0.3882,  0.1098, -0.2471,\n",
       "                       -0.2990,  0.2915, -0.2370, -0.4904],\n",
       "                      [ 0.6489, -0.5582, -0.1166,  0.6886, -0.0784,  0.2584,  0.5601, -0.0133,\n",
       "                       -0.1270, -0.1304,  0.2677, -0.0939],\n",
       "                      [ 0.6496,  0.0087, -0.5675,  0.5733,  0.1651,  0.2153,  0.0120,  0.4913,\n",
       "                       -0.5072, -0.1647, -0.6649, -0.1022],\n",
       "                      [-0.7054,  0.6103, -0.5836, -0.0382, -0.3912,  0.2614,  0.0343,  0.0475,\n",
       "                        0.4430,  0.5815,  0.6624, -0.2696],\n",
       "                      [-0.3200,  0.5855,  0.3132,  0.0816, -0.3597, -0.5430,  0.4136,  0.1256,\n",
       "                        0.6373,  0.0270,  0.5405,  0.0732]])),\n",
       "             ('model.3.bias',\n",
       "              tensor([0., 0., 0., 0., 0., 0., 0., 0., 0., 0.])),\n",
       "             ('model.4.weight',\n",
       "              tensor([1., 1., 1., 1., 1., 1., 1., 1., 1., 1.])),\n",
       "             ('model.4.bias',\n",
       "              tensor([0., 0., 0., 0., 0., 0., 0., 0., 0., 0.])),\n",
       "             ('model.4.running_mean',\n",
       "              tensor([0., 0., 0., 0., 0., 0., 0., 0., 0., 0.])),\n",
       "             ('model.4.running_var',\n",
       "              tensor([1., 1., 1., 1., 1., 1., 1., 1., 1., 1.])),\n",
       "             ('model.4.num_batches_tracked', tensor(0)),\n",
       "             ('model.6.weight',\n",
       "              tensor([[ 0.0408,  0.1727,  0.6036,  0.4772,  0.6973,  0.1232,  0.3935,  0.1554,\n",
       "                        0.5439,  0.3050],\n",
       "                      [-0.0938,  0.1501, -0.0524, -0.2911, -0.3468, -0.0164,  0.5919,  0.6641,\n",
       "                        0.5000,  0.3831],\n",
       "                      [-0.3705,  0.1026,  0.6969,  0.4394, -0.5644, -0.5334,  0.7393,  0.0446,\n",
       "                       -0.6766,  0.1826],\n",
       "                      [ 0.2413, -0.0961,  0.4279, -0.6173,  0.1112, -0.2164, -0.0393,  0.0047,\n",
       "                        0.7396, -0.2297],\n",
       "                      [-0.7524, -0.4839, -0.2989,  0.6361,  0.2298, -0.4927,  0.1031,  0.3748,\n",
       "                       -0.0874,  0.0212],\n",
       "                      [-0.4938,  0.1003, -0.6615, -0.2652,  0.1549,  0.2310, -0.6044, -0.0808,\n",
       "                        0.4584,  0.7373],\n",
       "                      [-0.0963,  0.3196,  0.0467, -0.4949,  0.0789, -0.4919, -0.0352, -0.6079,\n",
       "                       -0.4135, -0.2181],\n",
       "                      [-0.0687, -0.6129, -0.2634, -0.7654, -0.5944, -0.7185, -0.5104, -0.0451,\n",
       "                        0.5086,  0.0355]])),\n",
       "             ('model.6.bias', tensor([0., 0., 0., 0., 0., 0., 0., 0.])),\n",
       "             ('model.7.weight', tensor([1., 1., 1., 1., 1., 1., 1., 1.])),\n",
       "             ('model.7.bias', tensor([0., 0., 0., 0., 0., 0., 0., 0.])),\n",
       "             ('model.7.running_mean',\n",
       "              tensor([0., 0., 0., 0., 0., 0., 0., 0.])),\n",
       "             ('model.7.running_var', tensor([1., 1., 1., 1., 1., 1., 1., 1.])),\n",
       "             ('model.7.num_batches_tracked', tensor(0)),\n",
       "             ('model.9.weight',\n",
       "              tensor([[-0.8168,  0.7201, -0.5807, -0.3692,  0.2160, -0.2759,  0.0923, -0.2344],\n",
       "                      [-0.0337, -0.8166,  0.0211,  0.0972,  0.5292,  0.0012,  0.5168,  0.0220],\n",
       "                      [ 0.4256, -0.3194,  0.1013,  0.0121, -0.6552,  0.8594,  0.5914,  0.4240],\n",
       "                      [-0.7150,  0.8121,  0.8189, -0.0397, -0.0921,  0.7254, -0.7150,  0.8249],\n",
       "                      [-0.2196, -0.3929,  0.0417,  0.2546,  0.0871,  0.5574, -0.6953, -0.0603],\n",
       "                      [-0.0602, -0.5968, -0.6627, -0.3154, -0.2991,  0.0669, -0.3733,  0.7948]])),\n",
       "             ('model.9.bias', tensor([0., 0., 0., 0., 0., 0.])),\n",
       "             ('model.10.weight', tensor([1., 1., 1., 1., 1., 1.])),\n",
       "             ('model.10.bias', tensor([0., 0., 0., 0., 0., 0.])),\n",
       "             ('model.10.running_mean', tensor([0., 0., 0., 0., 0., 0.])),\n",
       "             ('model.10.running_var', tensor([1., 1., 1., 1., 1., 1.])),\n",
       "             ('model.10.num_batches_tracked', tensor(0)),\n",
       "             ('model.12.weight',\n",
       "              tensor([[ 0.3631, -0.4890, -0.1317, -0.8604,  0.4589, -0.5010],\n",
       "                      [ 0.7755,  0.5416, -0.3549,  0.1176, -0.1587, -0.8349],\n",
       "                      [-0.6923, -0.5334,  0.9529, -0.7011,  0.4489, -0.4004],\n",
       "                      [ 0.3455,  0.7127,  0.6804, -0.8503,  0.0445,  0.2634]])),\n",
       "             ('model.12.bias', tensor([0., 0., 0., 0.])),\n",
       "             ('model.13.weight', tensor([1., 1., 1., 1.])),\n",
       "             ('model.13.bias', tensor([0., 0., 0., 0.])),\n",
       "             ('model.13.running_mean', tensor([0., 0., 0., 0.])),\n",
       "             ('model.13.running_var', tensor([1., 1., 1., 1.])),\n",
       "             ('model.13.num_batches_tracked', tensor(0)),\n",
       "             ('model.15.weight',\n",
       "              tensor([[ 0.1471,  0.0526,  1.1992, -0.9621]])),\n",
       "             ('model.15.bias', tensor([0.]))])"
      ]
     },
     "execution_count": 47,
     "metadata": {},
     "output_type": "execute_result"
    }
   ],
   "source": [
    "model.state_dict()"
   ]
  },
  {
   "cell_type": "code",
   "execution_count": 48,
   "metadata": {
    "colab": {
     "base_uri": "https://localhost:8080/"
    },
    "executionInfo": {
     "elapsed": 314714,
     "status": "ok",
     "timestamp": 1749326005296,
     "user": {
      "displayName": "Abhijeet kashyap",
      "userId": "09627247903602119596"
     },
     "user_tz": -330
    },
    "id": "PGYZ2hpyv7yB",
    "outputId": "8b815b59-241b-4ba4-a568-9d497ce8cff9"
   },
   "outputs": [
    {
     "name": "stdout",
     "output_type": "stream",
     "text": [
      "Epoch 100, Loss after every 100 epochs: 0.0586\n",
      "Epoch 200, Loss after every 100 epochs: 0.0556\n",
      "Epoch 300, Loss after every 100 epochs: 0.0520\n",
      "Epoch 400, Loss after every 100 epochs: 0.0515\n",
      "Epoch 500, Loss after every 100 epochs: 0.0474\n",
      "\n",
      " Training completed in 5.24 minutes\n"
     ]
    }
   ],
   "source": [
    "\n",
    "start_time=time.time() # training_time\n",
    "\n",
    "def updation(model,loader):\n",
    "  epochs=500\n",
    "  learning_rate=0.001\n",
    "  loss_fxn=nn.MSELoss()\n",
    "  opt=optimizer.Adam(model.parameters(),lr=learning_rate) # no need of weight_deacy dropout,batchnorm applied\n",
    "\n",
    "  model.train() # so dropout,batchnorm behave normally\n",
    "\n",
    "\n",
    "  for i in range(epochs):\n",
    "    running_loss=0\n",
    "    for batch_features,batch_labels in loader:\n",
    "\n",
    "        # training on gpu\n",
    "        batch_features,batch_labels=batch_features.to(device),batch_labels.to(device)\n",
    "        # forward\n",
    "        output=model(batch_features)\n",
    "\n",
    "        # calculate loss\n",
    "        loss=loss_fxn(output,batch_labels)\n",
    "        running_loss+=loss.item()\n",
    "        #\n",
    "        opt.zero_grad()\n",
    "\n",
    "        # claculation gradient\n",
    "        loss.backward()\n",
    "        # updation\n",
    "\n",
    "        opt.step()\n",
    "\n",
    "    # print loss for every 10 epochs\n",
    "    if (i+1)%100==0:\n",
    "     avg_loss=running_loss/len(loader) # len(loader)= no.of batches\n",
    "     print(f\"Epoch {i+1}, Loss after every 100 epochs: {avg_loss:.4f}\")\n",
    "\n",
    "# calling function\n",
    "updation(model,loader)\n",
    "end_time=time.time()\n",
    "\n",
    "print(f\"\\n Training completed in {(end_time - start_time)/60:.2f} minutes\")"
   ]
  },
  {
   "cell_type": "code",
   "execution_count": 49,
   "metadata": {
    "colab": {
     "base_uri": "https://localhost:8080/"
    },
    "executionInfo": {
     "elapsed": 80,
     "status": "ok",
     "timestamp": 1749326563755,
     "user": {
      "displayName": "Abhijeet kashyap",
      "userId": "09627247903602119596"
     },
     "user_tz": -330
    },
    "id": "GLfXjQtk5Ar7",
    "outputId": "9249c067-415d-47c5-e1a5-2da410fe0af1"
   },
   "outputs": [
    {
     "data": {
      "text/plain": [
       "OrderedDict([('model.0.weight',\n",
       "              tensor([[-2.5917e-01, -4.1674e-01, -7.2923e-01, -6.7362e-01,  4.4405e-01,\n",
       "                       -3.0725e-01, -4.0179e-02,  2.4692e-01,  1.0145e-01, -4.1680e-02,\n",
       "                       -2.5850e-02,  2.4318e-01, -1.8725e+00, -1.5984e-01,  2.1594e-01],\n",
       "                      [-1.0949e-01, -2.1507e-02,  2.9462e-01, -1.7428e-01,  1.3399e+00,\n",
       "                        3.0267e-01,  3.3499e-01,  2.6648e-01, -3.2629e-01, -5.0610e-01,\n",
       "                        3.8011e-01,  1.0347e+00,  2.3317e-01,  2.0101e-01, -2.3734e-02],\n",
       "                      [ 1.9366e-01, -2.1286e-01,  4.5916e-01, -3.1600e-01,  8.3180e-01,\n",
       "                        8.3428e-02,  9.6275e-03, -7.5545e-01,  1.2969e-01,  8.8019e-02,\n",
       "                       -4.0267e-01,  7.8470e-02, -6.7581e-01,  1.5526e-01, -2.4649e-01],\n",
       "                      [ 4.9397e-02,  3.3145e-01,  2.2916e-01, -1.0383e+00, -1.0840e-01,\n",
       "                       -2.4996e-01, -6.3456e-02,  3.6945e-01, -2.3884e-01, -2.9717e-01,\n",
       "                        7.4558e-02, -7.0339e-01, -4.5083e-01, -9.3086e-01, -1.1795e-01],\n",
       "                      [ 6.2642e-01, -4.3492e-01,  4.7541e-01, -4.9256e-01, -4.6982e-02,\n",
       "                       -4.6217e-02, -7.2383e-01, -1.8185e-02, -1.3763e-01, -4.7754e-01,\n",
       "                        3.1734e-02, -1.1198e+00, -5.8140e-01, -3.0458e-01,  2.9245e-01],\n",
       "                      [ 6.8772e-01,  5.6875e-01,  3.4811e-01,  9.3520e-02,  2.4674e-01,\n",
       "                       -7.7711e-01, -1.3483e+00, -7.1772e-01, -2.5385e-01,  2.0220e-01,\n",
       "                        8.7209e-02, -4.4661e-01,  3.3619e-01,  1.2938e-01, -2.5196e-01],\n",
       "                      [-3.4506e-01,  4.2919e-01, -5.5334e-02, -6.6174e-02, -1.0055e+00,\n",
       "                        3.3865e-01,  1.1873e-01,  9.9013e-02, -1.5883e-01, -1.0528e-01,\n",
       "                       -3.7928e-02, -4.3909e-01, -4.6872e-01,  4.5159e-02,  2.3495e-02],\n",
       "                      [-2.1266e-01, -1.0342e-01, -2.5558e-01, -1.2597e+00,  2.8774e-01,\n",
       "                       -1.2697e-01, -3.1895e-01,  1.2058e+00, -4.9602e-01,  8.4662e-02,\n",
       "                        1.7495e-01,  3.7713e-02,  4.9061e-01,  2.2977e-01, -8.2877e-02],\n",
       "                      [ 2.2193e-01, -4.2201e-01,  1.4455e-01,  7.7946e-01,  1.2014e-01,\n",
       "                        3.2034e-01, -3.2316e-02, -1.5944e-01, -1.7408e-01, -1.2789e-01,\n",
       "                       -3.6632e-02,  6.7675e-01,  6.9008e-01, -1.9072e-01,  6.1412e-01],\n",
       "                      [-2.7716e-01, -5.5252e-01, -1.6332e-01,  3.0912e-01,  2.7196e-01,\n",
       "                       -1.6008e-03,  2.0040e-01, -3.0504e-02,  5.6405e-02,  2.4284e-02,\n",
       "                       -2.0105e-01, -2.5187e+00, -1.4551e-01, -1.8992e-01,  9.7213e-02],\n",
       "                      [ 3.5605e-01, -4.9353e-02,  5.4372e-01, -8.9882e-01,  1.7607e-01,\n",
       "                       -3.2710e-01, -2.4155e-02,  1.0358e-01, -3.8049e-01, -3.5966e-01,\n",
       "                        7.6660e-01, -3.5202e-03, -1.4260e-01,  6.6992e-01, -3.4105e-01],\n",
       "                      [ 6.6981e-01,  7.9749e-02,  4.5943e-01,  1.1737e-01,  2.5416e-01,\n",
       "                        1.8561e-01,  6.1891e-02,  1.1670e+00,  4.6417e-02,  3.4858e-01,\n",
       "                       -2.6981e-01,  1.4258e+00, -4.7699e-03,  6.3928e-02,  9.3016e-02]])),\n",
       "             ('model.0.bias',\n",
       "              tensor([-0.0307, -0.0011,  0.0327,  0.0488, -0.0627, -0.0028, -0.1150,  0.0014,\n",
       "                       0.0262, -0.1076, -0.0769, -0.0125])),\n",
       "             ('model.1.weight',\n",
       "              tensor([0.9985, 0.9491, 0.9126, 1.0205, 1.2303, 1.1435, 0.9807, 1.1054, 0.7184,\n",
       "                      1.0105, 0.7021, 0.9309])),\n",
       "             ('model.1.bias',\n",
       "              tensor([ 0.8109,  0.3295,  0.2656, -0.0058, -0.0792, -0.0131,  0.5780, -0.0792,\n",
       "                       0.9880,  0.5826,  0.0170,  0.8417])),\n",
       "             ('model.1.running_mean',\n",
       "              tensor([ 0.6347,  1.0849, -1.0507, -4.3467, -2.4535, -2.3179, -0.7323,  2.3007,\n",
       "                       1.3604, -3.0252,  0.2621,  5.7789])),\n",
       "             ('model.1.running_var',\n",
       "              tensor([2.6256, 2.0425, 1.0254, 6.1799, 1.7798, 1.1067, 0.4428, 2.8297, 1.9549,\n",
       "                      0.9685, 1.2603, 2.4203])),\n",
       "             ('model.1.num_batches_tracked', tensor(48000)),\n",
       "             ('model.3.weight',\n",
       "              tensor([[-0.0458, -0.9209,  0.2579, -0.6403, -0.5743, -0.3934, -0.0054,  0.2086,\n",
       "                        0.0094,  0.1670,  0.0902, -0.2333],\n",
       "                      [-0.1229, -0.2744,  0.5423, -0.9752, -0.4714, -0.6749, -0.2596, -0.1214,\n",
       "                        0.4672, -0.7230, -0.4421,  0.0134],\n",
       "                      [ 0.0142,  0.6973, -0.2125,  0.4011, -0.3052, -0.6419,  0.1003,  0.3504,\n",
       "                       -0.4645,  0.0285, -0.1463,  0.9611],\n",
       "                      [-0.0605,  0.7497,  0.6594,  0.6725,  0.1068, -0.2329, -0.4797, -0.6371,\n",
       "                       -0.6229, -0.5002, -0.3523,  0.3950],\n",
       "                      [ 0.7260, -0.1018,  0.2627, -0.4164,  0.2798, -0.0960,  0.6165, -0.7281,\n",
       "                        0.4292, -0.4608,  0.2942, -0.0237],\n",
       "                      [ 0.7019, -0.3075, -0.1151,  0.2995,  0.3929, -0.2190,  0.8387, -0.2168,\n",
       "                       -0.0737,  0.0414, -0.9431, -0.4719],\n",
       "                      [ 0.8114, -0.3103,  0.1342,  0.5053,  0.3485,  0.4180,  0.3804,  0.2859,\n",
       "                       -0.3855,  0.5123,  0.3662,  0.0437],\n",
       "                      [ 0.7086, -0.1942, -0.2055,  0.4253,  0.3500,  0.4038,  0.1064,  0.7285,\n",
       "                       -0.3500,  0.3094, -0.6852, -0.0166],\n",
       "                      [-0.7718,  0.3896, -0.9075,  0.1204, -0.8116,  0.3118, -0.8466,  0.0905,\n",
       "                        0.3256,  0.1777,  0.2442, -0.5298],\n",
       "                      [-0.6503,  0.7850,  0.5802,  0.2088,  0.2045, -0.3753,  0.3709,  0.2079,\n",
       "                        0.5270,  0.1540,  0.4963,  0.0202]])),\n",
       "             ('model.3.bias',\n",
       "              tensor([-0.0747,  0.0879, -0.0307, -0.0137, -0.0264,  0.0162,  0.0256,  0.0029,\n",
       "                       0.0076, -0.0037])),\n",
       "             ('model.4.weight',\n",
       "              tensor([1.1956, 1.1908, 1.1870, 0.5577, 0.8593, 0.9291, 1.4572, 1.2773, 0.5980,\n",
       "                      0.6493])),\n",
       "             ('model.4.bias',\n",
       "              tensor([ 0.2762,  0.3268, -0.3939,  0.0849, -0.0103, -0.1309, -0.2149,  0.0245,\n",
       "                       0.0487,  0.0756])),\n",
       "             ('model.4.running_mean',\n",
       "              tensor([-1.1249, -1.2419,  0.6108, -0.5125,  0.9474,  0.4305,  1.8052,  1.0396,\n",
       "                      -1.7172,  1.2835])),\n",
       "             ('model.4.running_var',\n",
       "              tensor([1.0337, 2.9511, 2.0724, 0.4595, 0.5629, 2.8289, 2.9434, 1.5341, 2.3076,\n",
       "                      1.2194])),\n",
       "             ('model.4.num_batches_tracked', tensor(48000)),\n",
       "             ('model.6.weight',\n",
       "              tensor([[ 0.0778,  0.2481,  0.8169,  0.2965,  0.4127, -0.4904,  0.4087,  0.6492,\n",
       "                        0.4269, -0.0096],\n",
       "                      [-0.4535,  0.2391, -0.3124, -0.2799, -0.8702,  0.3949,  0.9055, -0.0253,\n",
       "                        0.0819,  0.0276],\n",
       "                      [-0.2076,  0.3952,  0.6549,  0.5155, -0.0882,  0.5439,  1.0452,  0.1206,\n",
       "                       -0.4204,  0.2860],\n",
       "                      [-0.0527,  0.2430,  0.5100, -0.3853,  0.0968, -0.3858, -0.1084,  0.5410,\n",
       "                        0.6455, -0.4479],\n",
       "                      [-0.5828, -0.5029, -0.3036,  0.4731, -0.2471,  0.0724,  0.1653,  0.9182,\n",
       "                       -0.0912,  0.4599],\n",
       "                      [-0.7883,  0.4711, -0.6151,  0.1466,  0.1630, -0.1216, -0.8930,  0.0909,\n",
       "                        0.6550,  0.4138],\n",
       "                      [ 0.0659,  0.1920, -0.6796, -0.7616,  0.0034, -0.2536, -0.3080, -0.5543,\n",
       "                       -0.2027, -0.2357],\n",
       "                      [ 0.6616, -0.7406, -0.3312, -0.4166,  0.0986, -0.0025, -0.2838, -0.2149,\n",
       "                        0.5238,  0.2532]])),\n",
       "             ('model.6.bias',\n",
       "              tensor([-0.0667,  0.0081,  0.0205,  0.1444,  0.0257,  0.0316, -0.0776,  0.0181])),\n",
       "             ('model.7.weight',\n",
       "              tensor([1.1126, 1.2023, 1.1271, 0.8283, 1.1132, 0.7501, 1.0561, 0.5791])),\n",
       "             ('model.7.bias',\n",
       "              tensor([-0.0636,  0.2763, -0.0472,  0.6544,  0.2520,  0.2956,  0.0008, -0.0440])),\n",
       "             ('model.7.running_mean',\n",
       "              tensor([ 1.1633, -0.0042,  1.2062,  0.5433, -0.0542, -0.4122, -0.9806, -0.3013])),\n",
       "             ('model.7.running_var',\n",
       "              tensor([0.5688, 0.6511, 1.6150, 0.1384, 1.8968, 0.9487, 1.0995, 0.4668])),\n",
       "             ('model.7.num_batches_tracked', tensor(48000)),\n",
       "             ('model.9.weight',\n",
       "              tensor([[-7.6053e-01,  9.2257e-01, -3.0092e-01, -2.3027e-01,  5.3672e-01,\n",
       "                       -5.0633e-01,  3.4171e-02, -2.9247e-01],\n",
       "                      [-5.7770e-01, -5.7854e-01, -3.6381e-01, -5.2581e-02,  4.2438e-01,\n",
       "                        1.3286e-01,  8.9217e-01,  1.2280e-01],\n",
       "                      [ 5.5209e-01, -2.3395e-01,  1.3047e-01,  9.3089e-02, -8.2012e-01,\n",
       "                        7.9769e-01,  7.7948e-01,  1.6473e-01],\n",
       "                      [-8.6186e-01,  1.1591e+00,  8.4192e-01, -4.7251e-01,  1.6272e-01,\n",
       "                       -2.5845e-01, -8.7702e-01,  9.3170e-02],\n",
       "                      [-2.1553e-01, -6.0155e-01, -1.7768e-01,  3.8746e-01,  4.7620e-01,\n",
       "                        5.5591e-01, -8.2585e-02, -3.8401e-01],\n",
       "                      [ 3.7261e-04, -6.2611e-01, -1.0301e+00, -2.4433e-01, -1.4743e-01,\n",
       "                        3.4285e-02, -5.1386e-01,  7.8565e-01]])),\n",
       "             ('model.9.bias',\n",
       "              tensor([ 0.0208, -0.0350, -0.0043,  0.0122, -0.0507,  0.0965])),\n",
       "             ('model.10.weight',\n",
       "              tensor([0.9697, 1.0207, 1.0842, 1.1655, 0.7940, 0.9195])),\n",
       "             ('model.10.bias',\n",
       "              tensor([ 0.3456,  0.2438,  0.5220, -0.0668, -0.3118,  0.7191])),\n",
       "             ('model.10.running_mean',\n",
       "              tensor([-0.0774, -0.0838,  0.5283, -0.0952,  0.1365, -1.0226])),\n",
       "             ('model.10.running_var',\n",
       "              tensor([1.4185, 1.4483, 1.4056, 3.3725, 0.5189, 2.2232])),\n",
       "             ('model.10.num_batches_tracked', tensor(48000)),\n",
       "             ('model.12.weight',\n",
       "              tensor([[ 0.2508, -0.9819, -0.4362, -0.8477,  0.2522, -0.4535],\n",
       "                      [ 0.4911,  0.9176, -0.7727, -0.3907,  0.3309,  0.0205],\n",
       "                      [-0.7119,  0.2111,  1.0868, -0.8752,  0.3381, -0.0138],\n",
       "                      [ 0.0911,  0.7209,  0.6432, -0.5633,  0.0986,  0.9010]])),\n",
       "             ('model.12.bias', tensor([-0.0484,  0.1146,  0.1713,  0.0314])),\n",
       "             ('model.13.weight', tensor([0.5957, 1.0811, 1.0804, 0.9324])),\n",
       "             ('model.13.bias', tensor([ 0.4312,  0.2224,  0.2984, -0.1504])),\n",
       "             ('model.13.running_mean',\n",
       "              tensor([-1.5609,  0.1842,  0.4573,  1.5908])),\n",
       "             ('model.13.running_var',\n",
       "              tensor([0.4193, 0.3149, 4.0495, 2.1019])),\n",
       "             ('model.13.num_batches_tracked', tensor(48000)),\n",
       "             ('model.15.weight',\n",
       "              tensor([[ 0.1541,  0.1953,  1.2975, -0.8834]])),\n",
       "             ('model.15.bias', tensor([0.2904]))])"
      ]
     },
     "execution_count": 49,
     "metadata": {},
     "output_type": "execute_result"
    }
   ],
   "source": [
    "# getting final parameter after training\n",
    "model.state_dict()"
   ]
  },
  {
   "cell_type": "code",
   "execution_count": 50,
   "metadata": {
    "colab": {
     "base_uri": "https://localhost:8080/"
    },
    "executionInfo": {
     "elapsed": 169,
     "status": "ok",
     "timestamp": 1749326572286,
     "user": {
      "displayName": "Abhijeet kashyap",
      "userId": "09627247903602119596"
     },
     "user_tz": -330
    },
    "id": "zjN33hF0YENC",
    "outputId": "8b6408a4-9a4b-4d02-8885-adcb1392a167"
   },
   "outputs": [
    {
     "name": "stdout",
     "output_type": "stream",
     "text": [
      "Test R² score: 0.8005\n",
      "Test MSE: 1.5680\n"
     ]
    }
   ],
   "source": [
    "preds = []\n",
    "actuals = []\n",
    "\n",
    "with torch.inference_mode():\n",
    "    for batch_features, batch_labels in test_loader:\n",
    "        batch_features = batch_features.to(device)\n",
    "        batch_labels = batch_labels.to(device)\n",
    "\n",
    "        batch_preds = model(batch_features)  # output shape: [batch_size]\n",
    "        preds.append(batch_preds.cpu())      # don't squeeze again\n",
    "        actuals.append(batch_labels.cpu())   # keep as-is\n",
    "\n",
    "# Concatenate all batches\n",
    "preds_all = torch.cat(preds).numpy()\n",
    "actuals_all = torch.cat(actuals).numpy()\n",
    "\n",
    "preds_all = np.expm1(preds_all)\n",
    "actuals_all = np.expm1(actuals_all)\n",
    "\n",
    "# Metrics\n",
    "r2 = r2_score(actuals_all, preds_all)\n",
    "mse = mean_squared_error(actuals_all, preds_all)\n",
    "\n",
    "print(f\"Test R² score: {r2:.4f}\")\n",
    "print(f\"Test MSE: {mse:.4f}\")"
   ]
  },
  {
   "cell_type": "code",
   "execution_count": 51,
   "metadata": {
    "colab": {
     "base_uri": "https://localhost:8080/"
    },
    "executionInfo": {
     "elapsed": 324,
     "status": "ok",
     "timestamp": 1749326577273,
     "user": {
      "displayName": "Abhijeet kashyap",
      "userId": "09627247903602119596"
     },
     "user_tz": -330
    },
    "id": "Y5YQhoCJj0JB",
    "outputId": "2a405072-63e6-44e0-a3d8-5c03eb2d3947"
   },
   "outputs": [
    {
     "name": "stdout",
     "output_type": "stream",
     "text": [
      "Train R² score: 0.8020\n",
      "Train MSE: 1.5569\n"
     ]
    }
   ],
   "source": [
    "model.eval()\n",
    "train_preds = []\n",
    "train_actuals = []\n",
    "\n",
    "with torch.inference_mode():\n",
    "    for batch_features, batch_labels in loader:\n",
    "        batch_features = batch_features.to(device)\n",
    "        batch_labels = batch_labels.to(device)\n",
    "\n",
    "        batch_pred = model(batch_features)\n",
    "        train_preds.append(batch_pred.cpu())\n",
    "        train_actuals.append(batch_labels.cpu())\n",
    "\n",
    "train_preds_all = torch.cat(train_preds).numpy()\n",
    "train_actuals_all = torch.cat(train_actuals).numpy()\n",
    "\n",
    "# If log1p was used during preprocessing\n",
    "train_preds_all = np.expm1(train_preds_all)\n",
    "train_actuals_all = np.expm1(train_actuals_all)\n",
    "\n",
    "# Calculate scores\n",
    "train_r2 = r2_score(train_actuals_all, train_preds_all)\n",
    "train_mse = mean_squared_error(train_actuals_all, train_preds_all)\n",
    "\n",
    "print(f\"Train R² score: {train_r2:.4f}\")\n",
    "print(f\"Train MSE: {train_mse:.4f}\")\n"
   ]
  }
 ],
 "metadata": {
  "accelerator": "GPU",
  "colab": {
   "authorship_tag": "ABX9TyNrzC791RQxe5nRWXQfR5CK",
   "gpuType": "T4",
   "provenance": []
  },
  "kernelspec": {
   "display_name": "Python 3 (ipykernel)",
   "language": "python",
   "name": "python3"
  },
  "language_info": {
   "codemirror_mode": {
    "name": "ipython",
    "version": 3
   },
   "file_extension": ".py",
   "mimetype": "text/x-python",
   "name": "python",
   "nbconvert_exporter": "python",
   "pygments_lexer": "ipython3",
   "version": "3.9.13"
  }
 },
 "nbformat": 4,
 "nbformat_minor": 1
}
